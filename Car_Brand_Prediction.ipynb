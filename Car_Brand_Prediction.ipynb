{
 "cells": [
  {
   "cell_type": "markdown",
   "metadata": {},
   "source": [
    "## Car Brand Predictor using Keras"
   ]
  },
  {
   "cell_type": "markdown",
   "metadata": {},
   "source": [
    "Used ResNet50 and VGG16 keras application and data is generated from google search  "
   ]
  },
  {
   "cell_type": "code",
   "execution_count": 199,
   "metadata": {},
   "outputs": [],
   "source": [
    "# importing libraries \n",
    "\n",
    "from tensorflow.keras.layers import Input, Lambda, Dense, Flatten\n",
    "from tensorflow.keras.models import Model\n",
    "from tensorflow.keras.applications.resnet50 import ResNet50\n",
    "from tensorflow.keras.applications.vgg16 import VGG16\n",
    "from tensorflow.keras.applications.resnet50 import preprocess_input\n",
    "from tensorflow.keras.preprocessing import image\n",
    "from tensorflow.keras.preprocessing.image import ImageDataGenerator,load_img\n",
    "from tensorflow.keras.models import Sequential\n",
    "import numpy as np\n",
    "from glob import glob\n",
    "import matplotlib.pyplot as plt"
   ]
  },
  {
   "cell_type": "code",
   "execution_count": 200,
   "metadata": {},
   "outputs": [],
   "source": [
    "# resizing all the images\n",
    "IMAGE_SIZE = [224, 224]\n",
    "# setting file path for training and testing\n",
    "train_path = 'Datasets/train'\n",
    "valid_path = 'Datasets/test'\n"
   ]
  },
  {
   "cell_type": "code",
   "execution_count": 214,
   "metadata": {},
   "outputs": [],
   "source": [
    "# Importing the ResNet50 library and adding preprocessing layer to the front of ResNet50\n",
    "# Using imagenet weights\n",
    "#resnet = ResNet50(input_shape=IMAGE_SIZE + [3], weights='imagenet', include_top=False)\n",
    "# importing VGG16 Library\n",
    "vgg = VGG16(input_shape=IMAGE_SIZE + [3], weights='imagenet', include_top=False)\n",
    "\n"
   ]
  },
  {
   "cell_type": "code",
   "execution_count": 215,
   "metadata": {},
   "outputs": [],
   "source": [
    "# Not training existing weights\n",
    "for layer in vgg.layers:\n",
    "    layer.trainable = False"
   ]
  },
  {
   "cell_type": "code",
   "execution_count": 216,
   "metadata": {},
   "outputs": [],
   "source": [
    "# getting number of output classes in our dataset folder\n",
    "folders = glob('Datasets/train/*')"
   ]
  },
  {
   "cell_type": "code",
   "execution_count": 256,
   "metadata": {},
   "outputs": [],
   "source": [
    "# Flattening the out of resnet\n",
    "\n",
    "x = vgg.output\n",
    "x = Flatten()(x)\n",
    "#Adding 1024 layer before output layer\n",
    "#x=Dense(256,activation='relu')(x)\n",
    "\n",
    "\n"
   ]
  },
  {
   "cell_type": "code",
   "execution_count": 257,
   "metadata": {},
   "outputs": [],
   "source": [
    "#Creating the output layer\n",
    "prediction = Dense(len(folders), activation='softmax')(x)\n",
    "\n",
    "# creating a model object\n",
    "model = Model(inputs=vgg.input, outputs=prediction)"
   ]
  },
  {
   "cell_type": "code",
   "execution_count": 258,
   "metadata": {},
   "outputs": [
    {
     "name": "stdout",
     "output_type": "stream",
     "text": [
      "Model: \"model_10\"\n",
      "_________________________________________________________________\n",
      " Layer (type)                Output Shape              Param #   \n",
      "=================================================================\n",
      " input_6 (InputLayer)        [(None, 224, 224, 3)]     0         \n",
      "                                                                 \n",
      " block1_conv1 (Conv2D)       (None, 224, 224, 64)      1792      \n",
      "                                                                 \n",
      " block1_conv2 (Conv2D)       (None, 224, 224, 64)      36928     \n",
      "                                                                 \n",
      " block1_pool (MaxPooling2D)  (None, 112, 112, 64)      0         \n",
      "                                                                 \n",
      " block2_conv1 (Conv2D)       (None, 112, 112, 128)     73856     \n",
      "                                                                 \n",
      " block2_conv2 (Conv2D)       (None, 112, 112, 128)     147584    \n",
      "                                                                 \n",
      " block2_pool (MaxPooling2D)  (None, 56, 56, 128)       0         \n",
      "                                                                 \n",
      " block3_conv1 (Conv2D)       (None, 56, 56, 256)       295168    \n",
      "                                                                 \n",
      " block3_conv2 (Conv2D)       (None, 56, 56, 256)       590080    \n",
      "                                                                 \n",
      " block3_conv3 (Conv2D)       (None, 56, 56, 256)       590080    \n",
      "                                                                 \n",
      " block3_pool (MaxPooling2D)  (None, 28, 28, 256)       0         \n",
      "                                                                 \n",
      " block4_conv1 (Conv2D)       (None, 28, 28, 512)       1180160   \n",
      "                                                                 \n",
      " block4_conv2 (Conv2D)       (None, 28, 28, 512)       2359808   \n",
      "                                                                 \n",
      " block4_conv3 (Conv2D)       (None, 28, 28, 512)       2359808   \n",
      "                                                                 \n",
      " block4_pool (MaxPooling2D)  (None, 14, 14, 512)       0         \n",
      "                                                                 \n",
      " block5_conv1 (Conv2D)       (None, 14, 14, 512)       2359808   \n",
      "                                                                 \n",
      " block5_conv2 (Conv2D)       (None, 14, 14, 512)       2359808   \n",
      "                                                                 \n",
      " block5_conv3 (Conv2D)       (None, 14, 14, 512)       2359808   \n",
      "                                                                 \n",
      " block5_pool (MaxPooling2D)  (None, 7, 7, 512)         0         \n",
      "                                                                 \n",
      " flatten_11 (Flatten)        (None, 25088)             0         \n",
      "                                                                 \n",
      " dense_17 (Dense)            (None, 4)                 100356    \n",
      "                                                                 \n",
      "=================================================================\n",
      "Total params: 14,815,044\n",
      "Trainable params: 100,356\n",
      "Non-trainable params: 14,714,688\n",
      "_________________________________________________________________\n"
     ]
    }
   ],
   "source": [
    "# viewing the structure of the model\n",
    "model.summary()\n"
   ]
  },
  {
   "cell_type": "markdown",
   "metadata": {},
   "source": [
    "#### Last layer has 4 outputs and input layer is images"
   ]
  },
  {
   "cell_type": "code",
   "execution_count": 259,
   "metadata": {},
   "outputs": [],
   "source": [
    "# Using cost and optimization method to use\n",
    "model.compile(\n",
    "  loss='categorical_crossentropy',\n",
    "  optimizer='adam',\n",
    "  metrics=['accuracy']\n",
    ")\n"
   ]
  },
  {
   "cell_type": "code",
   "execution_count": 260,
   "metadata": {},
   "outputs": [],
   "source": [
    "# Using the Image Data Generator to import the images from the dataset\n",
    "from tensorflow.keras.preprocessing.image import ImageDataGenerator\n",
    "\n",
    "train_datagen = ImageDataGenerator(rescale=1./255,\n",
    "                                   shear_range = 0.2,\n",
    "                                   zoom_range = 0.2,horizontal_flip=True)\n",
    "\n",
    "test_datagen = ImageDataGenerator(rescale=1./255)"
   ]
  },
  {
   "cell_type": "code",
   "execution_count": 261,
   "metadata": {},
   "outputs": [
    {
     "name": "stdout",
     "output_type": "stream",
     "text": [
      "Found 126 images belonging to 4 classes.\n"
     ]
    }
   ],
   "source": [
    "# creating training dataset\n",
    "training_set = train_datagen.flow_from_directory('Datasets/train',\n",
    "                                                 target_size = (224, 224),\n",
    "                                                 batch_size = 32,\n",
    "                                                 class_mode = 'categorical')"
   ]
  },
  {
   "cell_type": "code",
   "execution_count": 262,
   "metadata": {},
   "outputs": [
    {
     "name": "stdout",
     "output_type": "stream",
     "text": [
      "Found 80 images belonging to 4 classes.\n"
     ]
    }
   ],
   "source": [
    "test_set = test_datagen.flow_from_directory('Datasets/test',\n",
    "                                            target_size = (224, 224),\n",
    "                                            batch_size = 32,\n",
    "                                            class_mode = 'categorical')"
   ]
  },
  {
   "cell_type": "code",
   "execution_count": 263,
   "metadata": {},
   "outputs": [
    {
     "name": "stderr",
     "output_type": "stream",
     "text": [
      "C:\\Users\\Atul\\AppData\\Local\\Temp\\ipykernel_380\\3051318008.py:2: UserWarning: `Model.fit_generator` is deprecated and will be removed in a future version. Please use `Model.fit`, which supports generators.\n",
      "  r = model.fit_generator(\n"
     ]
    },
    {
     "name": "stdout",
     "output_type": "stream",
     "text": [
      "Epoch 1/20\n",
      "4/4 [==============================] - 61s 16s/step - loss: 2.4875 - accuracy: 0.3016 - val_loss: 1.5331 - val_accuracy: 0.4375\n",
      "Epoch 2/20\n",
      "4/4 [==============================] - 58s 16s/step - loss: 1.2476 - accuracy: 0.4762 - val_loss: 1.1468 - val_accuracy: 0.5125\n",
      "Epoch 3/20\n",
      "4/4 [==============================] - 58s 16s/step - loss: 0.9191 - accuracy: 0.6349 - val_loss: 0.8584 - val_accuracy: 0.6750\n",
      "Epoch 4/20\n",
      "4/4 [==============================] - 58s 16s/step - loss: 0.4926 - accuracy: 0.8095 - val_loss: 0.8816 - val_accuracy: 0.6625\n",
      "Epoch 5/20\n",
      "4/4 [==============================] - 58s 16s/step - loss: 0.4902 - accuracy: 0.8016 - val_loss: 0.5781 - val_accuracy: 0.7750\n",
      "Epoch 6/20\n",
      "4/4 [==============================] - 58s 16s/step - loss: 0.2084 - accuracy: 0.9841 - val_loss: 0.7255 - val_accuracy: 0.7500\n",
      "Epoch 7/20\n",
      "4/4 [==============================] - 59s 16s/step - loss: 0.1933 - accuracy: 0.9524 - val_loss: 0.5911 - val_accuracy: 0.7375\n",
      "Epoch 8/20\n",
      "4/4 [==============================] - 58s 16s/step - loss: 0.1518 - accuracy: 0.9683 - val_loss: 0.5282 - val_accuracy: 0.7750\n",
      "Epoch 9/20\n",
      "4/4 [==============================] - 59s 17s/step - loss: 0.1257 - accuracy: 0.9841 - val_loss: 0.4819 - val_accuracy: 0.8250\n",
      "Epoch 10/20\n",
      "4/4 [==============================] - 59s 17s/step - loss: 0.0928 - accuracy: 0.9841 - val_loss: 0.4680 - val_accuracy: 0.7875\n",
      "Epoch 11/20\n",
      "4/4 [==============================] - 58s 16s/step - loss: 0.0786 - accuracy: 1.0000 - val_loss: 0.5537 - val_accuracy: 0.7750\n",
      "Epoch 12/20\n",
      "4/4 [==============================] - 59s 16s/step - loss: 0.0659 - accuracy: 1.0000 - val_loss: 0.5170 - val_accuracy: 0.7625\n",
      "Epoch 13/20\n",
      "4/4 [==============================] - 59s 17s/step - loss: 0.0598 - accuracy: 1.0000 - val_loss: 0.4728 - val_accuracy: 0.8125\n",
      "Epoch 14/20\n",
      "4/4 [==============================] - 59s 16s/step - loss: 0.0434 - accuracy: 1.0000 - val_loss: 0.4632 - val_accuracy: 0.7750\n",
      "Epoch 15/20\n",
      "4/4 [==============================] - 59s 16s/step - loss: 0.0429 - accuracy: 1.0000 - val_loss: 0.4947 - val_accuracy: 0.7625\n",
      "Epoch 16/20\n",
      "4/4 [==============================] - 59s 16s/step - loss: 0.0444 - accuracy: 1.0000 - val_loss: 0.4654 - val_accuracy: 0.8250\n",
      "Epoch 17/20\n",
      "4/4 [==============================] - 60s 17s/step - loss: 0.0390 - accuracy: 1.0000 - val_loss: 0.4372 - val_accuracy: 0.8250\n",
      "Epoch 18/20\n",
      "4/4 [==============================] - 58s 16s/step - loss: 0.0362 - accuracy: 1.0000 - val_loss: 0.4435 - val_accuracy: 0.8125\n",
      "Epoch 19/20\n",
      "4/4 [==============================] - 60s 17s/step - loss: 0.0381 - accuracy: 1.0000 - val_loss: 0.4652 - val_accuracy: 0.7875\n",
      "Epoch 20/20\n",
      "4/4 [==============================] - 58s 17s/step - loss: 0.0268 - accuracy: 1.0000 - val_loss: 0.4745 - val_accuracy: 0.8000\n"
     ]
    }
   ],
   "source": [
    "# fitting data to model\n",
    "r = model.fit_generator(\n",
    "  training_set,\n",
    "  validation_data=test_set,\n",
    "  epochs=20,\n",
    "  steps_per_epoch=len(training_set),\n",
    "  validation_steps=len(test_set)\n",
    ")"
   ]
  },
  {
   "cell_type": "code",
   "execution_count": 264,
   "metadata": {},
   "outputs": [
    {
     "data": {
      "image/png": "[encoded data removed]",
      "text/plain": [
       "<Figure size 432x288 with 1 Axes>"
      ]
     },
     "metadata": {
      "needs_background": "light"
     },
     "output_type": "display_data"
    },
    {
     "data": {
      "image/png": "[encoded data removed]",
      "text/plain": [
       "<Figure size 432x288 with 1 Axes>"
      ]
     },
     "metadata": {
      "needs_background": "light"
     },
     "output_type": "display_data"
    },
    {
     "data": {
      "text/plain": [
       "<Figure size 432x288 with 0 Axes>"
      ]
     },
     "metadata": {},
     "output_type": "display_data"
    }
   ],
   "source": [
    "# ploting the both losses\n",
    "plt.plot(r.history['loss'], label='train loss')\n",
    "plt.plot(r.history['val_loss'], label='val loss')\n",
    "plt.legend()\n",
    "plt.title('Model Loss')\n",
    "plt.ylabel('Loss')\n",
    "plt.xlabel('Epochs')\n",
    "plt.show()\n",
    "plt.savefig('LossVal_loss')\n",
    "\n",
    "# ploting the accuracy\n",
    "plt.plot(r.history['accuracy'], label='train acc')\n",
    "plt.plot(r.history['val_accuracy'], label='val acc')\n",
    "plt.legend()\n",
    "plt.title('Model Accuracy')\n",
    "plt.ylabel('Accuracy')\n",
    "plt.xlabel('Epochs')\n",
    "plt.show()\n",
    "plt.savefig('AccVal_acc')"
   ]
  },
  {
   "cell_type": "markdown",
   "metadata": {},
   "source": [
    "#### Since there is large difference in validation accuracy and accuracy values, So added more images to traing datasets"
   ]
  },
  {
   "cell_type": "code",
   "execution_count": 265,
   "metadata": {},
   "outputs": [],
   "source": [
    "# saving the as a h5 file\n",
    "\n",
    "from tensorflow.keras.models import load_model\n",
    "model.save('model_vgg50.h5')"
   ]
  },
  {
   "cell_type": "code",
   "execution_count": 316,
   "metadata": {},
   "outputs": [
    {
     "name": "stdout",
     "output_type": "stream",
     "text": [
      "3/3 [==============================] - 22s 6s/step\n"
     ]
    }
   ],
   "source": [
    "#predicting 4 classes\n",
    "y_pred = model.predict(test_set)\n"
   ]
  },
  {
   "cell_type": "code",
   "execution_count": 317,
   "metadata": {},
   "outputs": [
    {
     "data": {
      "text/plain": [
       "array([[5.98579459e-03, 9.92087424e-01, 9.69532295e-04, 9.57295648e-04],\n",
       "       [8.80958792e-03, 3.04372668e-01, 9.78527069e-02, 5.88964999e-01],\n",
       "       [9.93619502e-01, 8.34265724e-04, 2.76541454e-03, 2.78075319e-03],\n",
       "       [2.72912960e-02, 3.45709175e-02, 9.08928335e-01, 2.92093586e-02],\n",
       "       [9.11748095e-04, 3.46850684e-05, 2.75839190e-03, 9.96295154e-01],\n",
       "       [2.89737363e-04, 9.95793819e-01, 2.21307017e-03, 1.70333253e-03],\n",
       "       [5.14231205e-01, 1.32908998e-03, 4.66224134e-01, 1.82156283e-02],\n",
       "       [3.13389814e-03, 9.61448908e-01, 1.07389204e-02, 2.46782787e-02],\n",
       "       [2.70314310e-02, 9.63142157e-01, 7.43123051e-03, 2.39520287e-03],\n",
       "       [3.85064334e-01, 1.86987668e-02, 5.43008745e-01, 5.32281473e-02],\n",
       "       [4.18892682e-01, 1.41393468e-01, 3.50634575e-01, 8.90793055e-02],\n",
       "       [9.77620482e-04, 9.36897457e-01, 5.77785671e-02, 4.34626220e-03],\n",
       "       [1.75675020e-01, 8.35346151e-03, 7.02317953e-01, 1.13653585e-01],\n",
       "       [3.94633114e-01, 4.61045414e-01, 1.67245492e-02, 1.27596959e-01],\n",
       "       [1.17034267e-03, 9.94969666e-01, 7.60690891e-04, 3.09922337e-03],\n",
       "       [5.81492856e-03, 4.73704364e-04, 6.83365902e-03, 9.86877620e-01],\n",
       "       [2.69813725e-04, 9.99473155e-01, 8.73306926e-05, 1.69675288e-04],\n",
       "       [7.70282513e-03, 1.06937783e-02, 9.80596423e-01, 1.00697868e-03],\n",
       "       [9.88439560e-01, 6.35844714e-04, 4.57812101e-03, 6.34642504e-03],\n",
       "       [2.20249802e-01, 7.04594236e-03, 7.52011716e-01, 2.06926037e-02],\n",
       "       [8.40929642e-05, 9.99051750e-01, 3.77225195e-04, 4.87017795e-04],\n",
       "       [6.51594579e-01, 1.60301868e-02, 1.38450280e-01, 1.93924963e-01],\n",
       "       [9.95419264e-01, 1.14821712e-03, 2.27749115e-03, 1.15500542e-03],\n",
       "       [2.00958475e-01, 7.44243413e-02, 7.10354388e-01, 1.42628308e-02],\n",
       "       [1.30289290e-02, 1.84592903e-02, 1.84319150e-02, 9.50079918e-01],\n",
       "       [1.16260406e-02, 7.68200636e-01, 2.03889117e-01, 1.62841342e-02],\n",
       "       [1.39816184e-05, 9.99673605e-01, 3.85986714e-05, 2.73851911e-04],\n",
       "       [9.94949460e-01, 5.97143553e-05, 4.54312749e-03, 4.47733211e-04],\n",
       "       [9.72381651e-01, 8.18256754e-04, 2.32543889e-02, 3.54569522e-03],\n",
       "       [8.71937140e-04, 9.98458505e-01, 3.95849842e-04, 2.73711077e-04],\n",
       "       [6.69460535e-01, 1.40503310e-02, 1.69897631e-01, 1.46591559e-01],\n",
       "       [1.50772125e-01, 3.55101794e-01, 2.91487247e-01, 2.02638879e-01],\n",
       "       [7.21711526e-03, 1.91216823e-03, 9.90364730e-01, 5.05940698e-04],\n",
       "       [3.54244709e-01, 3.21942754e-03, 6.30630076e-01, 1.19058294e-02],\n",
       "       [2.39305641e-03, 9.89003956e-01, 6.34755986e-03, 2.25535757e-03],\n",
       "       [5.71228593e-05, 9.98609006e-01, 1.15962804e-03, 1.74227942e-04],\n",
       "       [2.69424748e-02, 3.34226191e-02, 2.84061376e-02, 9.11228776e-01],\n",
       "       [1.62415616e-02, 6.62022503e-03, 2.54210085e-02, 9.51717257e-01],\n",
       "       [3.15302044e-01, 8.19091778e-03, 5.98394036e-01, 7.81129822e-02],\n",
       "       [7.90742808e-04, 9.95506644e-01, 6.23934437e-04, 3.07866535e-03],\n",
       "       [9.62564290e-01, 2.15271008e-04, 3.69907618e-02, 2.29663245e-04],\n",
       "       [1.49691114e-02, 5.62279858e-03, 1.77830700e-02, 9.61625040e-01],\n",
       "       [9.90485698e-02, 1.06462486e-01, 5.27638555e-01, 2.66850412e-01],\n",
       "       [3.08809080e-03, 5.22275362e-03, 2.95126662e-02, 9.62176502e-01],\n",
       "       [1.38099581e-01, 4.85236011e-03, 8.51053953e-01, 5.99418255e-03],\n",
       "       [9.73796368e-01, 1.17705984e-03, 1.66209694e-02, 8.40555970e-03],\n",
       "       [8.94711435e-01, 6.08121082e-02, 4.26346771e-02, 1.84169342e-03],\n",
       "       [8.08737896e-05, 9.98684824e-01, 1.05979783e-03, 1.74486093e-04],\n",
       "       [3.06684196e-01, 4.20741253e-02, 5.36014497e-01, 1.15227111e-01],\n",
       "       [6.10465765e-01, 2.16813106e-02, 7.88219497e-02, 2.89030939e-01],\n",
       "       [6.42659469e-03, 1.58825936e-03, 3.93157359e-03, 9.88053620e-01],\n",
       "       [2.80559558e-04, 9.95913923e-01, 2.46085168e-04, 3.55939451e-03],\n",
       "       [9.99509008e-04, 9.96212125e-01, 2.87187024e-04, 2.50120810e-03],\n",
       "       [2.67311162e-03, 4.68632323e-04, 9.96687472e-01, 1.70812011e-04],\n",
       "       [1.99775696e-01, 2.56757170e-01, 1.92792818e-01, 3.50674361e-01],\n",
       "       [2.07746048e-02, 3.44580878e-03, 9.74474847e-01, 1.30465254e-03],\n",
       "       [7.42829451e-03, 1.93937495e-02, 9.70462620e-01, 2.71533756e-03],\n",
       "       [3.35172489e-02, 8.54297262e-03, 9.22364414e-01, 3.55753675e-02],\n",
       "       [1.37076923e-03, 2.74555734e-03, 1.13211318e-04, 9.95770514e-01],\n",
       "       [6.44224361e-02, 9.69065353e-03, 9.10836875e-01, 1.50501430e-02],\n",
       "       [1.00933976e-01, 6.20513320e-01, 4.95523028e-02, 2.29000390e-01],\n",
       "       [1.73156802e-03, 9.97285247e-01, 8.40881432e-04, 1.42289427e-04],\n",
       "       [3.91265983e-03, 5.80650056e-04, 9.95378971e-01, 1.27700128e-04],\n",
       "       [9.27212238e-02, 8.00797995e-03, 1.76638290e-01, 7.22632527e-01],\n",
       "       [1.30891800e-01, 7.74884447e-02, 7.56238759e-01, 3.53810266e-02],\n",
       "       [1.07550044e-02, 1.84242994e-01, 6.33789599e-01, 1.71212390e-01],\n",
       "       [9.97169673e-01, 3.59767387e-06, 2.39021215e-03, 4.36640810e-04],\n",
       "       [4.46877955e-03, 9.70589161e-01, 4.17277217e-03, 2.07693391e-02],\n",
       "       [4.36736703e-01, 2.79044645e-04, 5.04545689e-01, 5.84386066e-02],\n",
       "       [5.87176392e-03, 4.19674069e-03, 9.54448938e-01, 3.54825333e-02],\n",
       "       [2.05874860e-01, 5.03663301e-01, 1.40857846e-01, 1.49604008e-01],\n",
       "       [1.65439636e-01, 1.83975101e-02, 4.66733314e-02, 7.69489467e-01],\n",
       "       [3.22157443e-01, 1.30450964e-01, 4.37498301e-01, 1.09893322e-01],\n",
       "       [9.87819433e-01, 1.93938860e-04, 1.10221971e-02, 9.64471896e-04],\n",
       "       [5.52350329e-03, 3.47786234e-03, 9.90342259e-01, 6.56450051e-04],\n",
       "       [4.46877955e-03, 9.70589161e-01, 4.17277217e-03, 2.07693391e-02],\n",
       "       [5.72099164e-02, 3.10142437e-04, 9.37740028e-01, 4.73986706e-03],\n",
       "       [1.86925307e-02, 3.09390705e-02, 9.42937076e-01, 7.43123516e-03],\n",
       "       [8.97525027e-02, 7.28498250e-02, 4.95184332e-01, 3.42213303e-01],\n",
       "       [1.03520462e-02, 3.29856724e-01, 1.72773808e-01, 4.87017423e-01]],\n",
       "      dtype=float32)"
      ]
     },
     "execution_count": 317,
     "metadata": {},
     "output_type": "execute_result"
    }
   ],
   "source": [
    "y_pred"
   ]
  },
  {
   "cell_type": "code",
   "execution_count": 318,
   "metadata": {},
   "outputs": [],
   "source": [
    "# Highest prediction value will be the predicted class index\n",
    "import numpy as np\n",
    "y_pred = np.argmax(y_pred, axis=1)"
   ]
  },
  {
   "cell_type": "code",
   "execution_count": 319,
   "metadata": {},
   "outputs": [
    {
     "data": {
      "text/plain": [
       "array([1, 3, 0, 2, 3, 1, 0, 1, 1, 2, 0, 1, 2, 1, 1, 3, 1, 2, 0, 2, 1, 0,\n",
       "       0, 2, 3, 1, 1, 0, 0, 1, 0, 1, 2, 2, 1, 1, 3, 3, 2, 1, 0, 3, 2, 3,\n",
       "       2, 0, 0, 1, 2, 0, 3, 1, 1, 2, 3, 2, 2, 2, 3, 2, 1, 1, 2, 3, 2, 2,\n",
       "       0, 1, 2, 2, 1, 3, 2, 0, 2, 1, 2, 2, 2, 3], dtype=int64)"
      ]
     },
     "execution_count": 319,
     "metadata": {},
     "output_type": "execute_result"
    }
   ],
   "source": [
    "y_pred"
   ]
  },
  {
   "cell_type": "code",
   "execution_count": 320,
   "metadata": {},
   "outputs": [],
   "source": [
    "from tensorflow.keras.models import load_model\n",
    "from tensorflow.keras.preprocessing import image"
   ]
  },
  {
   "cell_type": "code",
   "execution_count": 321,
   "metadata": {},
   "outputs": [],
   "source": [
    "#Loading the model\n",
    "model=load_model('model_vgg50.h5')"
   ]
  },
  {
   "cell_type": "markdown",
   "metadata": {},
   "source": [
    "### Testing the model"
   ]
  },
  {
   "cell_type": "code",
   "execution_count": 322,
   "metadata": {},
   "outputs": [],
   "source": [
    "# Taking image from test dataset to test\n",
    "img=image.load_img('1.jpg',target_size=(224,224))\n"
   ]
  },
  {
   "cell_type": "code",
   "execution_count": 323,
   "metadata": {},
   "outputs": [
    {
     "data": {
      "text/plain": [
       "array([[[255., 255., 255.],\n",
       "        [255., 255., 255.],\n",
       "        [255., 255., 255.],\n",
       "        ...,\n",
       "        [255., 255., 255.],\n",
       "        [255., 255., 255.],\n",
       "        [255., 255., 255.]],\n",
       "\n",
       "       [[255., 255., 255.],\n",
       "        [255., 255., 255.],\n",
       "        [255., 255., 255.],\n",
       "        ...,\n",
       "        [255., 255., 255.],\n",
       "        [255., 255., 255.],\n",
       "        [255., 255., 255.]],\n",
       "\n",
       "       [[255., 255., 255.],\n",
       "        [255., 255., 255.],\n",
       "        [255., 255., 255.],\n",
       "        ...,\n",
       "        [255., 255., 255.],\n",
       "        [255., 255., 255.],\n",
       "        [255., 255., 255.]],\n",
       "\n",
       "       ...,\n",
       "\n",
       "       [[255., 255., 255.],\n",
       "        [255., 255., 255.],\n",
       "        [255., 255., 255.],\n",
       "        ...,\n",
       "        [255., 255., 255.],\n",
       "        [255., 255., 255.],\n",
       "        [255., 255., 255.]],\n",
       "\n",
       "       [[255., 255., 255.],\n",
       "        [255., 255., 255.],\n",
       "        [255., 255., 255.],\n",
       "        ...,\n",
       "        [255., 255., 255.],\n",
       "        [255., 255., 255.],\n",
       "        [255., 255., 255.]],\n",
       "\n",
       "       [[255., 255., 255.],\n",
       "        [255., 255., 255.],\n",
       "        [255., 255., 255.],\n",
       "        ...,\n",
       "        [255., 255., 255.],\n",
       "        [255., 255., 255.],\n",
       "        [255., 255., 255.]]], dtype=float32)"
      ]
     },
     "execution_count": 323,
     "metadata": {},
     "output_type": "execute_result"
    }
   ],
   "source": [
    "# Image to array\n",
    "x=image.img_to_array(img)\n",
    "x"
   ]
  },
  {
   "cell_type": "code",
   "execution_count": 324,
   "metadata": {},
   "outputs": [
    {
     "data": {
      "text/plain": [
       "(224, 224, 3)"
      ]
     },
     "execution_count": 324,
     "metadata": {},
     "output_type": "execute_result"
    }
   ],
   "source": [
    "x.shape"
   ]
  },
  {
   "cell_type": "code",
   "execution_count": 325,
   "metadata": {},
   "outputs": [],
   "source": [
    "#re-scaling the testing image\n",
    "\n",
    "x= x/255"
   ]
  },
  {
   "cell_type": "code",
   "execution_count": 326,
   "metadata": {},
   "outputs": [
    {
     "data": {
      "text/plain": [
       "(1, 224, 224, 3)"
      ]
     },
     "execution_count": 326,
     "metadata": {},
     "output_type": "execute_result"
    }
   ],
   "source": [
    "x=np.expand_dims(x,axis=0)\n",
    "img_data=preprocess_input(x)\n",
    "img_data.shape"
   ]
  },
  {
   "cell_type": "code",
   "execution_count": 327,
   "metadata": {},
   "outputs": [
    {
     "name": "stdout",
     "output_type": "stream",
     "text": [
      "1/1 [==============================] - 1s 569ms/step\n"
     ]
    },
    {
     "data": {
      "text/plain": [
       "array([[1.6671326e-04, 1.7596827e-01, 8.2374388e-01, 1.2111240e-04]],\n",
       "      dtype=float32)"
      ]
     },
     "execution_count": 327,
     "metadata": {},
     "output_type": "execute_result"
    }
   ],
   "source": [
    "model.predict(img_data)"
   ]
  },
  {
   "cell_type": "code",
   "execution_count": 328,
   "metadata": {},
   "outputs": [
    {
     "name": "stdout",
     "output_type": "stream",
     "text": [
      "1/1 [==============================] - 0s 277ms/step\n"
     ]
    }
   ],
   "source": [
    "a=np.argmax(model.predict(img_data), axis=1)"
   ]
  },
  {
   "cell_type": "code",
   "execution_count": 329,
   "metadata": {},
   "outputs": [
    {
     "data": {
      "text/plain": [
       "array([2], dtype=int64)"
      ]
     },
     "execution_count": 329,
     "metadata": {},
     "output_type": "execute_result"
    }
   ],
   "source": [
    "# Checking if the image belongs to lamborgini\n",
    "a"
   ]
  },
  {
   "cell_type": "code",
   "execution_count": null,
   "metadata": {},
   "outputs": [],
   "source": []
  }
 ],
 "metadata": {
  "kernelspec": {
   "display_name": "Python 3 (ipykernel)",
   "language": "python",
   "name": "python3"
  },
  "language_info": {
   "codemirror_mode": {
    "name": "ipython",
    "version": 3
   },
   "file_extension": ".py",
   "mimetype": "text/x-python",
   "name": "python",
   "nbconvert_exporter": "python",
   "pygments_lexer": "ipython3",
   "version": "3.9.12"
  }
 },
 "nbformat": 4,
 "nbformat_minor": 2
}

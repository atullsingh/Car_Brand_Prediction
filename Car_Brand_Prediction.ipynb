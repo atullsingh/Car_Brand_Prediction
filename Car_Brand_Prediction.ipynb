{
 "cells": [
  {
   "cell_type": "markdown",
   "metadata": {},
   "source": [
    "## Car Brand Predictor using Keras"
   ]
  },
  {
   "cell_type": "markdown",
   "metadata": {},
   "source": [
    "Used ResNet50 keras application and data is generated from google search  "
   ]
  },
  {
   "cell_type": "code",
   "execution_count": 1,
   "metadata": {},
   "outputs": [],
   "source": [
    "# importing libraries \n",
    "\n",
    "from tensorflow.keras.layers import Input, Lambda, Dense, Flatten\n",
    "from tensorflow.keras.models import Model\n",
    "from tensorflow.keras.applications.resnet50 import ResNet50\n",
    "from tensorflow.keras.applications.resnet50 import preprocess_input\n",
    "from tensorflow.keras.preprocessing import image\n",
    "from tensorflow.keras.preprocessing.image import ImageDataGenerator,load_img\n",
    "from tensorflow.keras.models import Sequential\n",
    "import numpy as np\n",
    "from glob import glob\n",
    "import matplotlib.pyplot as plt"
   ]
  },
  {
   "cell_type": "code",
   "execution_count": 29,
   "metadata": {},
   "outputs": [],
   "source": [
    "# resizing all the images\n",
    "IMAGE_SIZE = [224, 224]\n",
    "# setting file path for training and testing\n",
    "train_path = 'Datasets/train'\n",
    "valid_path = 'Datasets/test'\n"
   ]
  },
  {
   "cell_type": "code",
   "execution_count": 30,
   "metadata": {},
   "outputs": [],
   "source": [
    "# Importing the ResNet50 library and adding preprocessing layer to the front of ResNet50\n",
    "# Using imagenet weights\n",
    "\n",
    "resnet = ResNet50(input_shape=IMAGE_SIZE + [3], weights='imagenet', include_top=False)\n",
    "\n",
    "\n"
   ]
  },
  {
   "cell_type": "code",
   "execution_count": 31,
   "metadata": {},
   "outputs": [],
   "source": [
    "# Not training existing weights\n",
    "for layer in resnet.layers:\n",
    "    layer.trainable = False"
   ]
  },
  {
   "cell_type": "code",
   "execution_count": 32,
   "metadata": {},
   "outputs": [],
   "source": [
    "# getting number of output classes in our dataset folder\n",
    "folders = glob('Datasets/train/*')"
   ]
  },
  {
   "cell_type": "code",
   "execution_count": 33,
   "metadata": {},
   "outputs": [],
   "source": [
    "# Flattening the out of resnet\n",
    "x = Flatten()(resnet.output)"
   ]
  },
  {
   "cell_type": "code",
   "execution_count": 34,
   "metadata": {},
   "outputs": [],
   "source": [
    "#Creating the output layer\n",
    "prediction = Dense(len(folders), activation='softmax')(x)\n",
    "\n",
    "# creating a model object\n",
    "model = Model(inputs=resnet.input, outputs=prediction)"
   ]
  },
  {
   "cell_type": "code",
   "execution_count": 35,
   "metadata": {},
   "outputs": [
    {
     "name": "stdout",
     "output_type": "stream",
     "text": [
      "Model: \"model_2\"\n",
      "__________________________________________________________________________________________________\n",
      " Layer (type)                   Output Shape         Param #     Connected to                     \n",
      "==================================================================================================\n",
      " input_3 (InputLayer)           [(None, 224, 224, 3  0           []                               \n",
      "                                )]                                                                \n",
      "                                                                                                  \n",
      " conv1_pad (ZeroPadding2D)      (None, 230, 230, 3)  0           ['input_3[0][0]']                \n",
      "                                                                                                  \n",
      " conv1_conv (Conv2D)            (None, 112, 112, 64  9472        ['conv1_pad[0][0]']              \n",
      "                                )                                                                 \n",
      "                                                                                                  \n",
      " conv1_bn (BatchNormalization)  (None, 112, 112, 64  256         ['conv1_conv[0][0]']             \n",
      "                                )                                                                 \n",
      "                                                                                                  \n",
      " conv1_relu (Activation)        (None, 112, 112, 64  0           ['conv1_bn[0][0]']               \n",
      "                                )                                                                 \n",
      "                                                                                                  \n",
      " pool1_pad (ZeroPadding2D)      (None, 114, 114, 64  0           ['conv1_relu[0][0]']             \n",
      "                                )                                                                 \n",
      "                                                                                                  \n",
      " pool1_pool (MaxPooling2D)      (None, 56, 56, 64)   0           ['pool1_pad[0][0]']              \n",
      "                                                                                                  \n",
      " conv2_block1_1_conv (Conv2D)   (None, 56, 56, 64)   4160        ['pool1_pool[0][0]']             \n",
      "                                                                                                  \n",
      " conv2_block1_1_bn (BatchNormal  (None, 56, 56, 64)  256         ['conv2_block1_1_conv[0][0]']    \n",
      " ization)                                                                                         \n",
      "                                                                                                  \n",
      " conv2_block1_1_relu (Activatio  (None, 56, 56, 64)  0           ['conv2_block1_1_bn[0][0]']      \n",
      " n)                                                                                               \n",
      "                                                                                                  \n",
      " conv2_block1_2_conv (Conv2D)   (None, 56, 56, 64)   36928       ['conv2_block1_1_relu[0][0]']    \n",
      "                                                                                                  \n",
      " conv2_block1_2_bn (BatchNormal  (None, 56, 56, 64)  256         ['conv2_block1_2_conv[0][0]']    \n",
      " ization)                                                                                         \n",
      "                                                                                                  \n",
      " conv2_block1_2_relu (Activatio  (None, 56, 56, 64)  0           ['conv2_block1_2_bn[0][0]']      \n",
      " n)                                                                                               \n",
      "                                                                                                  \n",
      " conv2_block1_0_conv (Conv2D)   (None, 56, 56, 256)  16640       ['pool1_pool[0][0]']             \n",
      "                                                                                                  \n",
      " conv2_block1_3_conv (Conv2D)   (None, 56, 56, 256)  16640       ['conv2_block1_2_relu[0][0]']    \n",
      "                                                                                                  \n",
      " conv2_block1_0_bn (BatchNormal  (None, 56, 56, 256)  1024       ['conv2_block1_0_conv[0][0]']    \n",
      " ization)                                                                                         \n",
      "                                                                                                  \n",
      " conv2_block1_3_bn (BatchNormal  (None, 56, 56, 256)  1024       ['conv2_block1_3_conv[0][0]']    \n",
      " ization)                                                                                         \n",
      "                                                                                                  \n",
      " conv2_block1_add (Add)         (None, 56, 56, 256)  0           ['conv2_block1_0_bn[0][0]',      \n",
      "                                                                  'conv2_block1_3_bn[0][0]']      \n",
      "                                                                                                  \n",
      " conv2_block1_out (Activation)  (None, 56, 56, 256)  0           ['conv2_block1_add[0][0]']       \n",
      "                                                                                                  \n",
      " conv2_block2_1_conv (Conv2D)   (None, 56, 56, 64)   16448       ['conv2_block1_out[0][0]']       \n",
      "                                                                                                  \n",
      " conv2_block2_1_bn (BatchNormal  (None, 56, 56, 64)  256         ['conv2_block2_1_conv[0][0]']    \n",
      " ization)                                                                                         \n",
      "                                                                                                  \n",
      " conv2_block2_1_relu (Activatio  (None, 56, 56, 64)  0           ['conv2_block2_1_bn[0][0]']      \n",
      " n)                                                                                               \n",
      "                                                                                                  \n",
      " conv2_block2_2_conv (Conv2D)   (None, 56, 56, 64)   36928       ['conv2_block2_1_relu[0][0]']    \n",
      "                                                                                                  \n",
      " conv2_block2_2_bn (BatchNormal  (None, 56, 56, 64)  256         ['conv2_block2_2_conv[0][0]']    \n",
      " ization)                                                                                         \n",
      "                                                                                                  \n",
      " conv2_block2_2_relu (Activatio  (None, 56, 56, 64)  0           ['conv2_block2_2_bn[0][0]']      \n",
      " n)                                                                                               \n",
      "                                                                                                  \n",
      " conv2_block2_3_conv (Conv2D)   (None, 56, 56, 256)  16640       ['conv2_block2_2_relu[0][0]']    \n",
      "                                                                                                  \n",
      " conv2_block2_3_bn (BatchNormal  (None, 56, 56, 256)  1024       ['conv2_block2_3_conv[0][0]']    \n",
      " ization)                                                                                         \n",
      "                                                                                                  \n",
      " conv2_block2_add (Add)         (None, 56, 56, 256)  0           ['conv2_block1_out[0][0]',       \n",
      "                                                                  'conv2_block2_3_bn[0][0]']      \n",
      "                                                                                                  \n",
      " conv2_block2_out (Activation)  (None, 56, 56, 256)  0           ['conv2_block2_add[0][0]']       \n",
      "                                                                                                  \n",
      " conv2_block3_1_conv (Conv2D)   (None, 56, 56, 64)   16448       ['conv2_block2_out[0][0]']       \n",
      "                                                                                                  \n",
      " conv2_block3_1_bn (BatchNormal  (None, 56, 56, 64)  256         ['conv2_block3_1_conv[0][0]']    \n",
      " ization)                                                                                         \n"
     ]
    },
    {
     "name": "stdout",
     "output_type": "stream",
     "text": [
      "                                                                                                  \n",
      " conv2_block3_1_relu (Activatio  (None, 56, 56, 64)  0           ['conv2_block3_1_bn[0][0]']      \n",
      " n)                                                                                               \n",
      "                                                                                                  \n",
      " conv2_block3_2_conv (Conv2D)   (None, 56, 56, 64)   36928       ['conv2_block3_1_relu[0][0]']    \n",
      "                                                                                                  \n",
      " conv2_block3_2_bn (BatchNormal  (None, 56, 56, 64)  256         ['conv2_block3_2_conv[0][0]']    \n",
      " ization)                                                                                         \n",
      "                                                                                                  \n",
      " conv2_block3_2_relu (Activatio  (None, 56, 56, 64)  0           ['conv2_block3_2_bn[0][0]']      \n",
      " n)                                                                                               \n",
      "                                                                                                  \n",
      " conv2_block3_3_conv (Conv2D)   (None, 56, 56, 256)  16640       ['conv2_block3_2_relu[0][0]']    \n",
      "                                                                                                  \n",
      " conv2_block3_3_bn (BatchNormal  (None, 56, 56, 256)  1024       ['conv2_block3_3_conv[0][0]']    \n",
      " ization)                                                                                         \n",
      "                                                                                                  \n",
      " conv2_block3_add (Add)         (None, 56, 56, 256)  0           ['conv2_block2_out[0][0]',       \n",
      "                                                                  'conv2_block3_3_bn[0][0]']      \n",
      "                                                                                                  \n",
      " conv2_block3_out (Activation)  (None, 56, 56, 256)  0           ['conv2_block3_add[0][0]']       \n",
      "                                                                                                  \n",
      " conv3_block1_1_conv (Conv2D)   (None, 28, 28, 128)  32896       ['conv2_block3_out[0][0]']       \n",
      "                                                                                                  \n",
      " conv3_block1_1_bn (BatchNormal  (None, 28, 28, 128)  512        ['conv3_block1_1_conv[0][0]']    \n",
      " ization)                                                                                         \n",
      "                                                                                                  \n",
      " conv3_block1_1_relu (Activatio  (None, 28, 28, 128)  0          ['conv3_block1_1_bn[0][0]']      \n",
      " n)                                                                                               \n",
      "                                                                                                  \n",
      " conv3_block1_2_conv (Conv2D)   (None, 28, 28, 128)  147584      ['conv3_block1_1_relu[0][0]']    \n",
      "                                                                                                  \n",
      " conv3_block1_2_bn (BatchNormal  (None, 28, 28, 128)  512        ['conv3_block1_2_conv[0][0]']    \n",
      " ization)                                                                                         \n",
      "                                                                                                  \n",
      " conv3_block1_2_relu (Activatio  (None, 28, 28, 128)  0          ['conv3_block1_2_bn[0][0]']      \n",
      " n)                                                                                               \n",
      "                                                                                                  \n",
      " conv3_block1_0_conv (Conv2D)   (None, 28, 28, 512)  131584      ['conv2_block3_out[0][0]']       \n",
      "                                                                                                  \n",
      " conv3_block1_3_conv (Conv2D)   (None, 28, 28, 512)  66048       ['conv3_block1_2_relu[0][0]']    \n",
      "                                                                                                  \n",
      " conv3_block1_0_bn (BatchNormal  (None, 28, 28, 512)  2048       ['conv3_block1_0_conv[0][0]']    \n",
      " ization)                                                                                         \n",
      "                                                                                                  \n",
      " conv3_block1_3_bn (BatchNormal  (None, 28, 28, 512)  2048       ['conv3_block1_3_conv[0][0]']    \n",
      " ization)                                                                                         \n",
      "                                                                                                  \n",
      " conv3_block1_add (Add)         (None, 28, 28, 512)  0           ['conv3_block1_0_bn[0][0]',      \n",
      "                                                                  'conv3_block1_3_bn[0][0]']      \n",
      "                                                                                                  \n",
      " conv3_block1_out (Activation)  (None, 28, 28, 512)  0           ['conv3_block1_add[0][0]']       \n",
      "                                                                                                  \n",
      " conv3_block2_1_conv (Conv2D)   (None, 28, 28, 128)  65664       ['conv3_block1_out[0][0]']       \n",
      "                                                                                                  \n",
      " conv3_block2_1_bn (BatchNormal  (None, 28, 28, 128)  512        ['conv3_block2_1_conv[0][0]']    \n",
      " ization)                                                                                         \n",
      "                                                                                                  \n",
      " conv3_block2_1_relu (Activatio  (None, 28, 28, 128)  0          ['conv3_block2_1_bn[0][0]']      \n",
      " n)                                                                                               \n",
      "                                                                                                  \n",
      " conv3_block2_2_conv (Conv2D)   (None, 28, 28, 128)  147584      ['conv3_block2_1_relu[0][0]']    \n",
      "                                                                                                  \n",
      " conv3_block2_2_bn (BatchNormal  (None, 28, 28, 128)  512        ['conv3_block2_2_conv[0][0]']    \n",
      " ization)                                                                                         \n",
      "                                                                                                  \n",
      " conv3_block2_2_relu (Activatio  (None, 28, 28, 128)  0          ['conv3_block2_2_bn[0][0]']      \n",
      " n)                                                                                               \n",
      "                                                                                                  \n",
      " conv3_block2_3_conv (Conv2D)   (None, 28, 28, 512)  66048       ['conv3_block2_2_relu[0][0]']    \n",
      "                                                                                                  \n",
      " conv3_block2_3_bn (BatchNormal  (None, 28, 28, 512)  2048       ['conv3_block2_3_conv[0][0]']    \n",
      " ization)                                                                                         \n",
      "                                                                                                  \n",
      " conv3_block2_add (Add)         (None, 28, 28, 512)  0           ['conv3_block1_out[0][0]',       \n",
      "                                                                  'conv3_block2_3_bn[0][0]']      \n",
      "                                                                                                  \n",
      " conv3_block2_out (Activation)  (None, 28, 28, 512)  0           ['conv3_block2_add[0][0]']       \n",
      "                                                                                                  \n",
      " conv3_block3_1_conv (Conv2D)   (None, 28, 28, 128)  65664       ['conv3_block2_out[0][0]']       \n",
      "                                                                                                  \n",
      " conv3_block3_1_bn (BatchNormal  (None, 28, 28, 128)  512        ['conv3_block3_1_conv[0][0]']    \n",
      " ization)                                                                                         \n"
     ]
    },
    {
     "name": "stdout",
     "output_type": "stream",
     "text": [
      "                                                                                                  \n",
      " conv3_block3_1_relu (Activatio  (None, 28, 28, 128)  0          ['conv3_block3_1_bn[0][0]']      \n",
      " n)                                                                                               \n",
      "                                                                                                  \n",
      " conv3_block3_2_conv (Conv2D)   (None, 28, 28, 128)  147584      ['conv3_block3_1_relu[0][0]']    \n",
      "                                                                                                  \n",
      " conv3_block3_2_bn (BatchNormal  (None, 28, 28, 128)  512        ['conv3_block3_2_conv[0][0]']    \n",
      " ization)                                                                                         \n",
      "                                                                                                  \n",
      " conv3_block3_2_relu (Activatio  (None, 28, 28, 128)  0          ['conv3_block3_2_bn[0][0]']      \n",
      " n)                                                                                               \n",
      "                                                                                                  \n",
      " conv3_block3_3_conv (Conv2D)   (None, 28, 28, 512)  66048       ['conv3_block3_2_relu[0][0]']    \n",
      "                                                                                                  \n",
      " conv3_block3_3_bn (BatchNormal  (None, 28, 28, 512)  2048       ['conv3_block3_3_conv[0][0]']    \n",
      " ization)                                                                                         \n",
      "                                                                                                  \n",
      " conv3_block3_add (Add)         (None, 28, 28, 512)  0           ['conv3_block2_out[0][0]',       \n",
      "                                                                  'conv3_block3_3_bn[0][0]']      \n",
      "                                                                                                  \n",
      " conv3_block3_out (Activation)  (None, 28, 28, 512)  0           ['conv3_block3_add[0][0]']       \n",
      "                                                                                                  \n",
      " conv3_block4_1_conv (Conv2D)   (None, 28, 28, 128)  65664       ['conv3_block3_out[0][0]']       \n",
      "                                                                                                  \n",
      " conv3_block4_1_bn (BatchNormal  (None, 28, 28, 128)  512        ['conv3_block4_1_conv[0][0]']    \n",
      " ization)                                                                                         \n",
      "                                                                                                  \n",
      " conv3_block4_1_relu (Activatio  (None, 28, 28, 128)  0          ['conv3_block4_1_bn[0][0]']      \n",
      " n)                                                                                               \n",
      "                                                                                                  \n",
      " conv3_block4_2_conv (Conv2D)   (None, 28, 28, 128)  147584      ['conv3_block4_1_relu[0][0]']    \n",
      "                                                                                                  \n",
      " conv3_block4_2_bn (BatchNormal  (None, 28, 28, 128)  512        ['conv3_block4_2_conv[0][0]']    \n",
      " ization)                                                                                         \n",
      "                                                                                                  \n",
      " conv3_block4_2_relu (Activatio  (None, 28, 28, 128)  0          ['conv3_block4_2_bn[0][0]']      \n",
      " n)                                                                                               \n",
      "                                                                                                  \n",
      " conv3_block4_3_conv (Conv2D)   (None, 28, 28, 512)  66048       ['conv3_block4_2_relu[0][0]']    \n",
      "                                                                                                  \n",
      " conv3_block4_3_bn (BatchNormal  (None, 28, 28, 512)  2048       ['conv3_block4_3_conv[0][0]']    \n",
      " ization)                                                                                         \n",
      "                                                                                                  \n",
      " conv3_block4_add (Add)         (None, 28, 28, 512)  0           ['conv3_block3_out[0][0]',       \n",
      "                                                                  'conv3_block4_3_bn[0][0]']      \n",
      "                                                                                                  \n",
      " conv3_block4_out (Activation)  (None, 28, 28, 512)  0           ['conv3_block4_add[0][0]']       \n",
      "                                                                                                  \n",
      " conv4_block1_1_conv (Conv2D)   (None, 14, 14, 256)  131328      ['conv3_block4_out[0][0]']       \n",
      "                                                                                                  \n",
      " conv4_block1_1_bn (BatchNormal  (None, 14, 14, 256)  1024       ['conv4_block1_1_conv[0][0]']    \n",
      " ization)                                                                                         \n",
      "                                                                                                  \n",
      " conv4_block1_1_relu (Activatio  (None, 14, 14, 256)  0          ['conv4_block1_1_bn[0][0]']      \n",
      " n)                                                                                               \n",
      "                                                                                                  \n",
      " conv4_block1_2_conv (Conv2D)   (None, 14, 14, 256)  590080      ['conv4_block1_1_relu[0][0]']    \n",
      "                                                                                                  \n",
      " conv4_block1_2_bn (BatchNormal  (None, 14, 14, 256)  1024       ['conv4_block1_2_conv[0][0]']    \n",
      " ization)                                                                                         \n",
      "                                                                                                  \n",
      " conv4_block1_2_relu (Activatio  (None, 14, 14, 256)  0          ['conv4_block1_2_bn[0][0]']      \n",
      " n)                                                                                               \n",
      "                                                                                                  \n",
      " conv4_block1_0_conv (Conv2D)   (None, 14, 14, 1024  525312      ['conv3_block4_out[0][0]']       \n",
      "                                )                                                                 \n",
      "                                                                                                  \n",
      " conv4_block1_3_conv (Conv2D)   (None, 14, 14, 1024  263168      ['conv4_block1_2_relu[0][0]']    \n",
      "                                )                                                                 \n",
      "                                                                                                  \n",
      " conv4_block1_0_bn (BatchNormal  (None, 14, 14, 1024  4096       ['conv4_block1_0_conv[0][0]']    \n",
      " ization)                       )                                                                 \n",
      "                                                                                                  \n",
      " conv4_block1_3_bn (BatchNormal  (None, 14, 14, 1024  4096       ['conv4_block1_3_conv[0][0]']    \n",
      " ization)                       )                                                                 \n",
      "                                                                                                  \n",
      " conv4_block1_add (Add)         (None, 14, 14, 1024  0           ['conv4_block1_0_bn[0][0]',      \n",
      "                                )                                 'conv4_block1_3_bn[0][0]']      \n",
      "                                                                                                  \n",
      " conv4_block1_out (Activation)  (None, 14, 14, 1024  0           ['conv4_block1_add[0][0]']       \n",
      "                                )                                                                 \n",
      "                                                                                                  \n",
      " conv4_block2_1_conv (Conv2D)   (None, 14, 14, 256)  262400      ['conv4_block1_out[0][0]']       \n"
     ]
    },
    {
     "name": "stdout",
     "output_type": "stream",
     "text": [
      "                                                                                                  \n",
      " conv4_block2_1_bn (BatchNormal  (None, 14, 14, 256)  1024       ['conv4_block2_1_conv[0][0]']    \n",
      " ization)                                                                                         \n",
      "                                                                                                  \n",
      " conv4_block2_1_relu (Activatio  (None, 14, 14, 256)  0          ['conv4_block2_1_bn[0][0]']      \n",
      " n)                                                                                               \n",
      "                                                                                                  \n",
      " conv4_block2_2_conv (Conv2D)   (None, 14, 14, 256)  590080      ['conv4_block2_1_relu[0][0]']    \n",
      "                                                                                                  \n",
      " conv4_block2_2_bn (BatchNormal  (None, 14, 14, 256)  1024       ['conv4_block2_2_conv[0][0]']    \n",
      " ization)                                                                                         \n",
      "                                                                                                  \n",
      " conv4_block2_2_relu (Activatio  (None, 14, 14, 256)  0          ['conv4_block2_2_bn[0][0]']      \n",
      " n)                                                                                               \n",
      "                                                                                                  \n",
      " conv4_block2_3_conv (Conv2D)   (None, 14, 14, 1024  263168      ['conv4_block2_2_relu[0][0]']    \n",
      "                                )                                                                 \n",
      "                                                                                                  \n",
      " conv4_block2_3_bn (BatchNormal  (None, 14, 14, 1024  4096       ['conv4_block2_3_conv[0][0]']    \n",
      " ization)                       )                                                                 \n",
      "                                                                                                  \n",
      " conv4_block2_add (Add)         (None, 14, 14, 1024  0           ['conv4_block1_out[0][0]',       \n",
      "                                )                                 'conv4_block2_3_bn[0][0]']      \n",
      "                                                                                                  \n",
      " conv4_block2_out (Activation)  (None, 14, 14, 1024  0           ['conv4_block2_add[0][0]']       \n",
      "                                )                                                                 \n",
      "                                                                                                  \n",
      " conv4_block3_1_conv (Conv2D)   (None, 14, 14, 256)  262400      ['conv4_block2_out[0][0]']       \n",
      "                                                                                                  \n",
      " conv4_block3_1_bn (BatchNormal  (None, 14, 14, 256)  1024       ['conv4_block3_1_conv[0][0]']    \n",
      " ization)                                                                                         \n",
      "                                                                                                  \n",
      " conv4_block3_1_relu (Activatio  (None, 14, 14, 256)  0          ['conv4_block3_1_bn[0][0]']      \n",
      " n)                                                                                               \n",
      "                                                                                                  \n",
      " conv4_block3_2_conv (Conv2D)   (None, 14, 14, 256)  590080      ['conv4_block3_1_relu[0][0]']    \n",
      "                                                                                                  \n",
      " conv4_block3_2_bn (BatchNormal  (None, 14, 14, 256)  1024       ['conv4_block3_2_conv[0][0]']    \n",
      " ization)                                                                                         \n",
      "                                                                                                  \n",
      " conv4_block3_2_relu (Activatio  (None, 14, 14, 256)  0          ['conv4_block3_2_bn[0][0]']      \n",
      " n)                                                                                               \n",
      "                                                                                                  \n",
      " conv4_block3_3_conv (Conv2D)   (None, 14, 14, 1024  263168      ['conv4_block3_2_relu[0][0]']    \n",
      "                                )                                                                 \n",
      "                                                                                                  \n",
      " conv4_block3_3_bn (BatchNormal  (None, 14, 14, 1024  4096       ['conv4_block3_3_conv[0][0]']    \n",
      " ization)                       )                                                                 \n",
      "                                                                                                  \n",
      " conv4_block3_add (Add)         (None, 14, 14, 1024  0           ['conv4_block2_out[0][0]',       \n",
      "                                )                                 'conv4_block3_3_bn[0][0]']      \n",
      "                                                                                                  \n",
      " conv4_block3_out (Activation)  (None, 14, 14, 1024  0           ['conv4_block3_add[0][0]']       \n",
      "                                )                                                                 \n",
      "                                                                                                  \n",
      " conv4_block4_1_conv (Conv2D)   (None, 14, 14, 256)  262400      ['conv4_block3_out[0][0]']       \n",
      "                                                                                                  \n",
      " conv4_block4_1_bn (BatchNormal  (None, 14, 14, 256)  1024       ['conv4_block4_1_conv[0][0]']    \n",
      " ization)                                                                                         \n",
      "                                                                                                  \n",
      " conv4_block4_1_relu (Activatio  (None, 14, 14, 256)  0          ['conv4_block4_1_bn[0][0]']      \n",
      " n)                                                                                               \n",
      "                                                                                                  \n",
      " conv4_block4_2_conv (Conv2D)   (None, 14, 14, 256)  590080      ['conv4_block4_1_relu[0][0]']    \n",
      "                                                                                                  \n",
      " conv4_block4_2_bn (BatchNormal  (None, 14, 14, 256)  1024       ['conv4_block4_2_conv[0][0]']    \n",
      " ization)                                                                                         \n",
      "                                                                                                  \n",
      " conv4_block4_2_relu (Activatio  (None, 14, 14, 256)  0          ['conv4_block4_2_bn[0][0]']      \n",
      " n)                                                                                               \n",
      "                                                                                                  \n",
      " conv4_block4_3_conv (Conv2D)   (None, 14, 14, 1024  263168      ['conv4_block4_2_relu[0][0]']    \n",
      "                                )                                                                 \n",
      "                                                                                                  \n",
      " conv4_block4_3_bn (BatchNormal  (None, 14, 14, 1024  4096       ['conv4_block4_3_conv[0][0]']    \n",
      " ization)                       )                                                                 \n",
      "                                                                                                  \n",
      " conv4_block4_add (Add)         (None, 14, 14, 1024  0           ['conv4_block3_out[0][0]',       \n",
      "                                )                                 'conv4_block4_3_bn[0][0]']      \n",
      "                                                                                                  \n",
      " conv4_block4_out (Activation)  (None, 14, 14, 1024  0           ['conv4_block4_add[0][0]']       \n",
      "                                )                                                                 \n",
      "                                                                                                  \n"
     ]
    },
    {
     "name": "stdout",
     "output_type": "stream",
     "text": [
      " conv4_block5_1_conv (Conv2D)   (None, 14, 14, 256)  262400      ['conv4_block4_out[0][0]']       \n",
      "                                                                                                  \n",
      " conv4_block5_1_bn (BatchNormal  (None, 14, 14, 256)  1024       ['conv4_block5_1_conv[0][0]']    \n",
      " ization)                                                                                         \n",
      "                                                                                                  \n",
      " conv4_block5_1_relu (Activatio  (None, 14, 14, 256)  0          ['conv4_block5_1_bn[0][0]']      \n",
      " n)                                                                                               \n",
      "                                                                                                  \n",
      " conv4_block5_2_conv (Conv2D)   (None, 14, 14, 256)  590080      ['conv4_block5_1_relu[0][0]']    \n",
      "                                                                                                  \n",
      " conv4_block5_2_bn (BatchNormal  (None, 14, 14, 256)  1024       ['conv4_block5_2_conv[0][0]']    \n",
      " ization)                                                                                         \n",
      "                                                                                                  \n",
      " conv4_block5_2_relu (Activatio  (None, 14, 14, 256)  0          ['conv4_block5_2_bn[0][0]']      \n",
      " n)                                                                                               \n",
      "                                                                                                  \n",
      " conv4_block5_3_conv (Conv2D)   (None, 14, 14, 1024  263168      ['conv4_block5_2_relu[0][0]']    \n",
      "                                )                                                                 \n",
      "                                                                                                  \n",
      " conv4_block5_3_bn (BatchNormal  (None, 14, 14, 1024  4096       ['conv4_block5_3_conv[0][0]']    \n",
      " ization)                       )                                                                 \n",
      "                                                                                                  \n",
      " conv4_block5_add (Add)         (None, 14, 14, 1024  0           ['conv4_block4_out[0][0]',       \n",
      "                                )                                 'conv4_block5_3_bn[0][0]']      \n",
      "                                                                                                  \n",
      " conv4_block5_out (Activation)  (None, 14, 14, 1024  0           ['conv4_block5_add[0][0]']       \n",
      "                                )                                                                 \n",
      "                                                                                                  \n",
      " conv4_block6_1_conv (Conv2D)   (None, 14, 14, 256)  262400      ['conv4_block5_out[0][0]']       \n",
      "                                                                                                  \n",
      " conv4_block6_1_bn (BatchNormal  (None, 14, 14, 256)  1024       ['conv4_block6_1_conv[0][0]']    \n",
      " ization)                                                                                         \n",
      "                                                                                                  \n",
      " conv4_block6_1_relu (Activatio  (None, 14, 14, 256)  0          ['conv4_block6_1_bn[0][0]']      \n",
      " n)                                                                                               \n",
      "                                                                                                  \n",
      " conv4_block6_2_conv (Conv2D)   (None, 14, 14, 256)  590080      ['conv4_block6_1_relu[0][0]']    \n",
      "                                                                                                  \n",
      " conv4_block6_2_bn (BatchNormal  (None, 14, 14, 256)  1024       ['conv4_block6_2_conv[0][0]']    \n",
      " ization)                                                                                         \n",
      "                                                                                                  \n",
      " conv4_block6_2_relu (Activatio  (None, 14, 14, 256)  0          ['conv4_block6_2_bn[0][0]']      \n",
      " n)                                                                                               \n",
      "                                                                                                  \n",
      " conv4_block6_3_conv (Conv2D)   (None, 14, 14, 1024  263168      ['conv4_block6_2_relu[0][0]']    \n",
      "                                )                                                                 \n",
      "                                                                                                  \n",
      " conv4_block6_3_bn (BatchNormal  (None, 14, 14, 1024  4096       ['conv4_block6_3_conv[0][0]']    \n",
      " ization)                       )                                                                 \n",
      "                                                                                                  \n",
      " conv4_block6_add (Add)         (None, 14, 14, 1024  0           ['conv4_block5_out[0][0]',       \n",
      "                                )                                 'conv4_block6_3_bn[0][0]']      \n",
      "                                                                                                  \n",
      " conv4_block6_out (Activation)  (None, 14, 14, 1024  0           ['conv4_block6_add[0][0]']       \n",
      "                                )                                                                 \n",
      "                                                                                                  \n",
      " conv5_block1_1_conv (Conv2D)   (None, 7, 7, 512)    524800      ['conv4_block6_out[0][0]']       \n",
      "                                                                                                  \n",
      " conv5_block1_1_bn (BatchNormal  (None, 7, 7, 512)   2048        ['conv5_block1_1_conv[0][0]']    \n",
      " ization)                                                                                         \n",
      "                                                                                                  \n",
      " conv5_block1_1_relu (Activatio  (None, 7, 7, 512)   0           ['conv5_block1_1_bn[0][0]']      \n",
      " n)                                                                                               \n",
      "                                                                                                  \n",
      " conv5_block1_2_conv (Conv2D)   (None, 7, 7, 512)    2359808     ['conv5_block1_1_relu[0][0]']    \n",
      "                                                                                                  \n",
      " conv5_block1_2_bn (BatchNormal  (None, 7, 7, 512)   2048        ['conv5_block1_2_conv[0][0]']    \n",
      " ization)                                                                                         \n",
      "                                                                                                  \n",
      " conv5_block1_2_relu (Activatio  (None, 7, 7, 512)   0           ['conv5_block1_2_bn[0][0]']      \n",
      " n)                                                                                               \n",
      "                                                                                                  \n",
      " conv5_block1_0_conv (Conv2D)   (None, 7, 7, 2048)   2099200     ['conv4_block6_out[0][0]']       \n",
      "                                                                                                  \n",
      " conv5_block1_3_conv (Conv2D)   (None, 7, 7, 2048)   1050624     ['conv5_block1_2_relu[0][0]']    \n",
      "                                                                                                  \n",
      " conv5_block1_0_bn (BatchNormal  (None, 7, 7, 2048)  8192        ['conv5_block1_0_conv[0][0]']    \n",
      " ization)                                                                                         \n",
      "                                                                                                  \n",
      " conv5_block1_3_bn (BatchNormal  (None, 7, 7, 2048)  8192        ['conv5_block1_3_conv[0][0]']    \n",
      " ization)                                                                                         \n",
      "                                                                                                  \n",
      " conv5_block1_add (Add)         (None, 7, 7, 2048)   0           ['conv5_block1_0_bn[0][0]',      \n"
     ]
    },
    {
     "name": "stdout",
     "output_type": "stream",
     "text": [
      "                                                                  'conv5_block1_3_bn[0][0]']      \n",
      "                                                                                                  \n",
      " conv5_block1_out (Activation)  (None, 7, 7, 2048)   0           ['conv5_block1_add[0][0]']       \n",
      "                                                                                                  \n",
      " conv5_block2_1_conv (Conv2D)   (None, 7, 7, 512)    1049088     ['conv5_block1_out[0][0]']       \n",
      "                                                                                                  \n",
      " conv5_block2_1_bn (BatchNormal  (None, 7, 7, 512)   2048        ['conv5_block2_1_conv[0][0]']    \n",
      " ization)                                                                                         \n",
      "                                                                                                  \n",
      " conv5_block2_1_relu (Activatio  (None, 7, 7, 512)   0           ['conv5_block2_1_bn[0][0]']      \n",
      " n)                                                                                               \n",
      "                                                                                                  \n",
      " conv5_block2_2_conv (Conv2D)   (None, 7, 7, 512)    2359808     ['conv5_block2_1_relu[0][0]']    \n",
      "                                                                                                  \n",
      " conv5_block2_2_bn (BatchNormal  (None, 7, 7, 512)   2048        ['conv5_block2_2_conv[0][0]']    \n",
      " ization)                                                                                         \n",
      "                                                                                                  \n",
      " conv5_block2_2_relu (Activatio  (None, 7, 7, 512)   0           ['conv5_block2_2_bn[0][0]']      \n",
      " n)                                                                                               \n",
      "                                                                                                  \n",
      " conv5_block2_3_conv (Conv2D)   (None, 7, 7, 2048)   1050624     ['conv5_block2_2_relu[0][0]']    \n",
      "                                                                                                  \n",
      " conv5_block2_3_bn (BatchNormal  (None, 7, 7, 2048)  8192        ['conv5_block2_3_conv[0][0]']    \n",
      " ization)                                                                                         \n",
      "                                                                                                  \n",
      " conv5_block2_add (Add)         (None, 7, 7, 2048)   0           ['conv5_block1_out[0][0]',       \n",
      "                                                                  'conv5_block2_3_bn[0][0]']      \n",
      "                                                                                                  \n",
      " conv5_block2_out (Activation)  (None, 7, 7, 2048)   0           ['conv5_block2_add[0][0]']       \n",
      "                                                                                                  \n",
      " conv5_block3_1_conv (Conv2D)   (None, 7, 7, 512)    1049088     ['conv5_block2_out[0][0]']       \n",
      "                                                                                                  \n",
      " conv5_block3_1_bn (BatchNormal  (None, 7, 7, 512)   2048        ['conv5_block3_1_conv[0][0]']    \n",
      " ization)                                                                                         \n",
      "                                                                                                  \n",
      " conv5_block3_1_relu (Activatio  (None, 7, 7, 512)   0           ['conv5_block3_1_bn[0][0]']      \n",
      " n)                                                                                               \n",
      "                                                                                                  \n",
      " conv5_block3_2_conv (Conv2D)   (None, 7, 7, 512)    2359808     ['conv5_block3_1_relu[0][0]']    \n",
      "                                                                                                  \n",
      " conv5_block3_2_bn (BatchNormal  (None, 7, 7, 512)   2048        ['conv5_block3_2_conv[0][0]']    \n",
      " ization)                                                                                         \n",
      "                                                                                                  \n",
      " conv5_block3_2_relu (Activatio  (None, 7, 7, 512)   0           ['conv5_block3_2_bn[0][0]']      \n",
      " n)                                                                                               \n",
      "                                                                                                  \n",
      " conv5_block3_3_conv (Conv2D)   (None, 7, 7, 2048)   1050624     ['conv5_block3_2_relu[0][0]']    \n",
      "                                                                                                  \n",
      " conv5_block3_3_bn (BatchNormal  (None, 7, 7, 2048)  8192        ['conv5_block3_3_conv[0][0]']    \n",
      " ization)                                                                                         \n",
      "                                                                                                  \n",
      " conv5_block3_add (Add)         (None, 7, 7, 2048)   0           ['conv5_block2_out[0][0]',       \n",
      "                                                                  'conv5_block3_3_bn[0][0]']      \n",
      "                                                                                                  \n",
      " conv5_block3_out (Activation)  (None, 7, 7, 2048)   0           ['conv5_block3_add[0][0]']       \n",
      "                                                                                                  \n",
      " flatten_2 (Flatten)            (None, 100352)       0           ['conv5_block3_out[0][0]']       \n",
      "                                                                                                  \n",
      " dense_3 (Dense)                (None, 4)            401412      ['flatten_2[0][0]']              \n",
      "                                                                                                  \n",
      "==================================================================================================\n",
      "Total params: 23,989,124\n",
      "Trainable params: 401,412\n",
      "Non-trainable params: 23,587,712\n",
      "__________________________________________________________________________________________________\n"
     ]
    }
   ],
   "source": [
    "# viewing the structure of the model\n",
    "model.summary()\n"
   ]
  },
  {
   "cell_type": "markdown",
   "metadata": {},
   "source": [
    "#### Last layer has 4 outputs and input layer is images"
   ]
  },
  {
   "cell_type": "code",
   "execution_count": 36,
   "metadata": {},
   "outputs": [],
   "source": [
    "# Using cost and optimization method to use\n",
    "model.compile(\n",
    "  loss='categorical_crossentropy',\n",
    "  optimizer='adam',\n",
    "  metrics=['accuracy']\n",
    ")\n"
   ]
  },
  {
   "cell_type": "code",
   "execution_count": 37,
   "metadata": {},
   "outputs": [],
   "source": [
    "# Using the Image Data Generator to import the images from the dataset\n",
    "from tensorflow.keras.preprocessing.image import ImageDataGenerator\n",
    "\n",
    "train_datagen = ImageDataGenerator(rescale = 1./255,\n",
    "                                   shear_range = 0.2,\n",
    "                                   zoom_range = 0.2,\n",
    "                                   horizontal_flip = True)\n",
    "\n",
    "test_datagen = ImageDataGenerator(rescale = 1./255)"
   ]
  },
  {
   "cell_type": "code",
   "execution_count": 38,
   "metadata": {},
   "outputs": [
    {
     "name": "stdout",
     "output_type": "stream",
     "text": [
      "Found 115 images belonging to 4 classes.\n"
     ]
    }
   ],
   "source": [
    "# creating training dataset\n",
    "training_set = train_datagen.flow_from_directory('Datasets/train',\n",
    "                                                 target_size = (224, 224),\n",
    "                                                 batch_size = 32,\n",
    "                                                 class_mode = 'categorical')"
   ]
  },
  {
   "cell_type": "code",
   "execution_count": 39,
   "metadata": {},
   "outputs": [
    {
     "name": "stdout",
     "output_type": "stream",
     "text": [
      "Found 74 images belonging to 4 classes.\n"
     ]
    }
   ],
   "source": [
    "test_set = test_datagen.flow_from_directory('Datasets/test',\n",
    "                                            target_size = (224, 224),\n",
    "                                            batch_size = 32,\n",
    "                                            class_mode = 'categorical')"
   ]
  },
  {
   "cell_type": "code",
   "execution_count": 40,
   "metadata": {},
   "outputs": [
    {
     "name": "stderr",
     "output_type": "stream",
     "text": [
      "C:\\Users\\Atul\\AppData\\Local\\Temp\\ipykernel_6680\\928474060.py:2: UserWarning: `Model.fit_generator` is deprecated and will be removed in a future version. Please use `Model.fit`, which supports generators.\n",
      "  r = model.fit_generator(\n"
     ]
    },
    {
     "name": "stdout",
     "output_type": "stream",
     "text": [
      "Epoch 1/50\n",
      "4/4 [==============================] - 29s 7s/step - loss: 12.2247 - accuracy: 0.2087 - val_loss: 6.1356 - val_accuracy: 0.2162\n",
      "Epoch 2/50\n",
      "4/4 [==============================] - 23s 6s/step - loss: 5.7017 - accuracy: 0.2435 - val_loss: 9.8534 - val_accuracy: 0.2568\n",
      "Epoch 3/50\n",
      "4/4 [==============================] - 23s 6s/step - loss: 5.2647 - accuracy: 0.3565 - val_loss: 4.6231 - val_accuracy: 0.4054\n",
      "Epoch 4/50\n",
      "4/4 [==============================] - 23s 7s/step - loss: 3.2228 - accuracy: 0.3652 - val_loss: 4.0835 - val_accuracy: 0.2027\n",
      "Epoch 5/50\n",
      "4/4 [==============================] - 23s 6s/step - loss: 2.1182 - accuracy: 0.3217 - val_loss: 2.7345 - val_accuracy: 0.4189\n",
      "Epoch 6/50\n",
      "4/4 [==============================] - 23s 7s/step - loss: 2.5178 - accuracy: 0.4348 - val_loss: 3.1784 - val_accuracy: 0.2703\n",
      "Epoch 7/50\n",
      "4/4 [==============================] - 23s 6s/step - loss: 1.8850 - accuracy: 0.4522 - val_loss: 1.3028 - val_accuracy: 0.4865\n",
      "Epoch 8/50\n",
      "4/4 [==============================] - 23s 6s/step - loss: 1.5563 - accuracy: 0.4783 - val_loss: 1.5434 - val_accuracy: 0.5135\n",
      "Epoch 9/50\n",
      "4/4 [==============================] - 23s 7s/step - loss: 1.1361 - accuracy: 0.4957 - val_loss: 1.3001 - val_accuracy: 0.5541\n",
      "Epoch 10/50\n",
      "4/4 [==============================] - 23s 6s/step - loss: 0.9586 - accuracy: 0.6696 - val_loss: 1.3154 - val_accuracy: 0.5541\n",
      "Epoch 11/50\n",
      "4/4 [==============================] - 22s 7s/step - loss: 0.9160 - accuracy: 0.6522 - val_loss: 1.3964 - val_accuracy: 0.4865\n",
      "Epoch 12/50\n",
      "4/4 [==============================] - 23s 7s/step - loss: 0.9464 - accuracy: 0.5913 - val_loss: 1.0996 - val_accuracy: 0.5811\n",
      "Epoch 13/50\n",
      "4/4 [==============================] - 23s 6s/step - loss: 0.7606 - accuracy: 0.7304 - val_loss: 1.2058 - val_accuracy: 0.5811\n",
      "Epoch 14/50\n",
      "4/4 [==============================] - 23s 6s/step - loss: 0.8044 - accuracy: 0.6957 - val_loss: 1.2160 - val_accuracy: 0.5405\n",
      "Epoch 15/50\n",
      "4/4 [==============================] - 23s 6s/step - loss: 0.8924 - accuracy: 0.6261 - val_loss: 1.1216 - val_accuracy: 0.5676\n",
      "Epoch 16/50\n",
      "4/4 [==============================] - 23s 6s/step - loss: 0.7954 - accuracy: 0.6783 - val_loss: 1.0563 - val_accuracy: 0.6351\n",
      "Epoch 17/50\n",
      "4/4 [==============================] - 23s 6s/step - loss: 0.6960 - accuracy: 0.7304 - val_loss: 1.3014 - val_accuracy: 0.4459\n",
      "Epoch 18/50\n",
      "4/4 [==============================] - 23s 6s/step - loss: 0.7475 - accuracy: 0.6696 - val_loss: 1.0611 - val_accuracy: 0.6622\n",
      "Epoch 19/50\n",
      "4/4 [==============================] - 22s 7s/step - loss: 0.7233 - accuracy: 0.6957 - val_loss: 1.3528 - val_accuracy: 0.5541\n",
      "Epoch 20/50\n",
      "4/4 [==============================] - 22s 6s/step - loss: 0.7816 - accuracy: 0.6783 - val_loss: 1.1153 - val_accuracy: 0.6216\n",
      "Epoch 21/50\n",
      "4/4 [==============================] - 23s 6s/step - loss: 0.9402 - accuracy: 0.6348 - val_loss: 1.5289 - val_accuracy: 0.5676\n",
      "Epoch 22/50\n",
      "4/4 [==============================] - 24s 7s/step - loss: 0.7264 - accuracy: 0.6870 - val_loss: 1.5837 - val_accuracy: 0.4595\n",
      "Epoch 23/50\n",
      "4/4 [==============================] - 31s 9s/step - loss: 0.7421 - accuracy: 0.6783 - val_loss: 1.3746 - val_accuracy: 0.5270\n",
      "Epoch 24/50\n",
      "4/4 [==============================] - 26s 7s/step - loss: 0.7728 - accuracy: 0.6522 - val_loss: 1.3830 - val_accuracy: 0.5946\n",
      "Epoch 25/50\n",
      "4/4 [==============================] - 27s 8s/step - loss: 0.6192 - accuracy: 0.7478 - val_loss: 1.8107 - val_accuracy: 0.3514\n",
      "Epoch 26/50\n",
      "4/4 [==============================] - 26s 7s/step - loss: 0.6770 - accuracy: 0.7130 - val_loss: 1.5023 - val_accuracy: 0.5541\n",
      "Epoch 27/50\n",
      "4/4 [==============================] - 23s 6s/step - loss: 0.8237 - accuracy: 0.6957 - val_loss: 1.4172 - val_accuracy: 0.4865\n",
      "Epoch 28/50\n",
      "4/4 [==============================] - 24s 7s/step - loss: 0.7208 - accuracy: 0.6696 - val_loss: 1.1837 - val_accuracy: 0.5946\n",
      "Epoch 29/50\n",
      "4/4 [==============================] - 24s 6s/step - loss: 0.5964 - accuracy: 0.7478 - val_loss: 1.1640 - val_accuracy: 0.5676\n",
      "Epoch 30/50\n",
      "4/4 [==============================] - 23s 6s/step - loss: 0.5422 - accuracy: 0.8000 - val_loss: 1.1970 - val_accuracy: 0.5811\n",
      "Epoch 31/50\n",
      "4/4 [==============================] - 23s 6s/step - loss: 0.5361 - accuracy: 0.8261 - val_loss: 1.0643 - val_accuracy: 0.6081\n",
      "Epoch 32/50\n",
      "4/4 [==============================] - 23s 6s/step - loss: 0.5520 - accuracy: 0.7739 - val_loss: 1.1265 - val_accuracy: 0.6622\n",
      "Epoch 33/50\n",
      "4/4 [==============================] - 23s 6s/step - loss: 0.4978 - accuracy: 0.8261 - val_loss: 1.2984 - val_accuracy: 0.5811\n",
      "Epoch 34/50\n",
      "4/4 [==============================] - 23s 7s/step - loss: 0.5994 - accuracy: 0.7652 - val_loss: 1.1671 - val_accuracy: 0.6486\n",
      "Epoch 35/50\n",
      "4/4 [==============================] - 23s 6s/step - loss: 0.5107 - accuracy: 0.8087 - val_loss: 1.1293 - val_accuracy: 0.6216\n",
      "Epoch 36/50\n",
      "4/4 [==============================] - 23s 7s/step - loss: 0.4716 - accuracy: 0.8261 - val_loss: 1.0424 - val_accuracy: 0.6757\n",
      "Epoch 37/50\n",
      "4/4 [==============================] - 23s 6s/step - loss: 0.4440 - accuracy: 0.8435 - val_loss: 1.2277 - val_accuracy: 0.6351\n",
      "Epoch 38/50\n",
      "4/4 [==============================] - 23s 7s/step - loss: 0.5016 - accuracy: 0.7826 - val_loss: 1.3684 - val_accuracy: 0.5676\n",
      "Epoch 39/50\n",
      "4/4 [==============================] - 23s 7s/step - loss: 0.5172 - accuracy: 0.8087 - val_loss: 1.1947 - val_accuracy: 0.5946\n",
      "Epoch 40/50\n",
      "4/4 [==============================] - 23s 6s/step - loss: 0.4542 - accuracy: 0.8435 - val_loss: 1.1218 - val_accuracy: 0.6216\n",
      "Epoch 41/50\n",
      "4/4 [==============================] - 23s 6s/step - loss: 0.4284 - accuracy: 0.8696 - val_loss: 1.1507 - val_accuracy: 0.6216\n",
      "Epoch 42/50\n",
      "4/4 [==============================] - 23s 6s/step - loss: 0.3698 - accuracy: 0.8957 - val_loss: 1.2638 - val_accuracy: 0.5811\n",
      "Epoch 43/50\n",
      "4/4 [==============================] - 23s 6s/step - loss: 0.5262 - accuracy: 0.8000 - val_loss: 1.0288 - val_accuracy: 0.6757\n",
      "Epoch 44/50\n",
      "4/4 [==============================] - 22s 7s/step - loss: 0.5192 - accuracy: 0.8087 - val_loss: 1.2285 - val_accuracy: 0.5676\n",
      "Epoch 45/50\n",
      "4/4 [==============================] - 23s 7s/step - loss: 0.4556 - accuracy: 0.8174 - val_loss: 1.1987 - val_accuracy: 0.6216\n",
      "Epoch 46/50\n",
      "4/4 [==============================] - 23s 7s/step - loss: 0.5490 - accuracy: 0.7478 - val_loss: 1.5467 - val_accuracy: 0.5405\n",
      "Epoch 47/50\n",
      "4/4 [==============================] - 23s 7s/step - loss: 0.4869 - accuracy: 0.8174 - val_loss: 1.2178 - val_accuracy: 0.6351\n",
      "Epoch 48/50\n",
      "4/4 [==============================] - 23s 7s/step - loss: 0.4962 - accuracy: 0.7565 - val_loss: 1.3000 - val_accuracy: 0.5135\n",
      "Epoch 49/50\n",
      "4/4 [==============================] - 23s 6s/step - loss: 0.4322 - accuracy: 0.8435 - val_loss: 1.1060 - val_accuracy: 0.5946\n",
      "Epoch 50/50\n",
      "4/4 [==============================] - 23s 6s/step - loss: 0.4710 - accuracy: 0.8087 - val_loss: 1.2521 - val_accuracy: 0.5946\n"
     ]
    }
   ],
   "source": [
    "# fitting data to model\n",
    "r = model.fit_generator(\n",
    "  training_set,\n",
    "  validation_data=test_set,\n",
    "  epochs=50,\n",
    "  steps_per_epoch=len(training_set),\n",
    "  validation_steps=len(test_set)\n",
    ")"
   ]
  },
  {
   "cell_type": "code",
   "execution_count": 41,
   "metadata": {},
   "outputs": [
    {
     "data": {
      "image/png": "[encoded data removed]",
      "text/plain": [
       "<Figure size 432x288 with 1 Axes>"
      ]
     },
     "metadata": {
      "needs_background": "light"
     },
     "output_type": "display_data"
    },
    {
     "data": {
      "image/png": "[encoded data removed]",
      "text/plain": [
       "<Figure size 432x288 with 1 Axes>"
      ]
     },
     "metadata": {
      "needs_background": "light"
     },
     "output_type": "display_data"
    },
    {
     "data": {
      "text/plain": [
       "<Figure size 432x288 with 0 Axes>"
      ]
     },
     "metadata": {},
     "output_type": "display_data"
    }
   ],
   "source": [
    "# ploting the both losses\n",
    "plt.plot(r.history['loss'], label='train loss')\n",
    "plt.plot(r.history['val_loss'], label='val loss')\n",
    "plt.legend()\n",
    "plt.show()\n",
    "plt.savefig('LossVal_loss')\n",
    "\n",
    "# ploting the accuracy\n",
    "plt.plot(r.history['accuracy'], label='train acc')\n",
    "plt.plot(r.history['val_accuracy'], label='val acc')\n",
    "plt.legend()\n",
    "plt.show()\n",
    "plt.savefig('AccVal_acc')"
   ]
  },
  {
   "cell_type": "markdown",
   "metadata": {},
   "source": [
    "#### Since there is large difference in validation accuracy and accuracy values, So added more images to traing datasets"
   ]
  },
  {
   "cell_type": "code",
   "execution_count": 42,
   "metadata": {},
   "outputs": [],
   "source": [
    "# saving the as a h5 file\n",
    "\n",
    "from tensorflow.keras.models import load_model\n",
    "model.save('model_resnet50.h5')"
   ]
  },
  {
   "cell_type": "code",
   "execution_count": 43,
   "metadata": {},
   "outputs": [
    {
     "name": "stdout",
     "output_type": "stream",
     "text": [
      "3/3 [==============================] - 10s 2s/step\n"
     ]
    }
   ],
   "source": [
    "#predicting 4 classes\n",
    "y_pred = model.predict(test_set)\n"
   ]
  },
  {
   "cell_type": "code",
   "execution_count": 47,
   "metadata": {},
   "outputs": [
    {
     "data": {
      "text/plain": [
       "array([[3.73043448e-01, 4.77311909e-01, 1.25465825e-01, 2.41788868e-02],\n",
       "       [3.42805773e-01, 1.30664274e-01, 3.71330470e-01, 1.55199468e-01],\n",
       "       [3.51901740e-01, 1.15594007e-01, 2.09114864e-01, 3.23389471e-01],\n",
       "       [9.77701768e-02, 2.82439381e-01, 5.11287332e-01, 1.08503126e-01],\n",
       "       [3.56363840e-02, 8.43997598e-01, 8.42621103e-02, 3.61038335e-02],\n",
       "       [6.96080148e-01, 2.35316664e-01, 1.91786215e-02, 4.94245254e-02],\n",
       "       [3.30208313e-05, 6.59045996e-03, 9.93367136e-01, 9.36697143e-06],\n",
       "       [2.12041229e-01, 2.60193348e-01, 2.17769027e-01, 3.09996367e-01],\n",
       "       [1.51085039e-03, 9.98412609e-01, 7.13922636e-05, 5.07265440e-06],\n",
       "       [9.50436950e-01, 2.91037615e-02, 1.85587704e-02, 1.90047128e-03],\n",
       "       [7.13901641e-03, 9.68420982e-01, 2.44234223e-02, 1.65408564e-05],\n",
       "       [2.20932495e-02, 9.16571081e-01, 5.13460077e-02, 9.98968259e-03],\n",
       "       [7.29185879e-01, 2.09172234e-01, 5.92667349e-02, 2.37514195e-03],\n",
       "       [3.72207522e-01, 5.27405620e-01, 7.16767311e-02, 2.87101436e-02],\n",
       "       [4.27212179e-01, 1.01652324e-01, 4.62193519e-01, 8.94199684e-03],\n",
       "       [1.71985552e-01, 1.86968818e-01, 1.63142115e-01, 4.77903515e-01],\n",
       "       [1.58622757e-01, 4.33151424e-01, 4.05871749e-01, 2.35403213e-03],\n",
       "       [7.40259469e-01, 2.57063329e-01, 2.36444687e-03, 3.12686316e-04],\n",
       "       [5.76145537e-02, 8.80546927e-01, 5.45082688e-02, 7.33021041e-03],\n",
       "       [3.55703741e-01, 4.02889907e-01, 2.07914338e-01, 3.34920026e-02],\n",
       "       [8.14110711e-02, 5.72359681e-01, 2.08636746e-01, 1.37592494e-01],\n",
       "       [5.71900159e-02, 5.37069678e-01, 1.73082665e-01, 2.32657656e-01],\n",
       "       [1.74799979e-01, 7.67203886e-03, 8.17063272e-01, 4.64658136e-04],\n",
       "       [4.42231219e-04, 9.90376294e-01, 9.18027014e-03, 1.13423039e-06],\n",
       "       [2.60216314e-02, 9.55289721e-01, 1.46978628e-02, 3.99075216e-03],\n",
       "       [2.02861920e-05, 4.60729003e-02, 9.53906834e-01, 7.96695474e-08],\n",
       "       [2.28071883e-01, 9.50669274e-02, 1.23485290e-02, 6.64512694e-01],\n",
       "       [1.71827391e-01, 6.85533928e-03, 8.21109533e-01, 2.07652251e-04],\n",
       "       [3.36379930e-02, 5.57038546e-01, 3.99122000e-01, 1.02015436e-02],\n",
       "       [1.36472005e-02, 9.21790302e-01, 3.99561562e-02, 2.46063340e-02],\n",
       "       [2.62800515e-01, 5.29268146e-01, 6.10023662e-02, 1.46928951e-01],\n",
       "       [8.26630741e-02, 6.68326318e-02, 4.80955422e-01, 3.69548857e-01],\n",
       "       [9.72178221e-01, 7.57872127e-04, 1.71686001e-02, 9.89532471e-03],\n",
       "       [9.88766365e-03, 9.82904553e-01, 6.34736707e-03, 8.60426459e-04],\n",
       "       [7.74098694e-01, 3.66581343e-02, 7.44502321e-02, 1.14792950e-01],\n",
       "       [4.94302600e-04, 9.53006387e-01, 4.63562347e-02, 1.43109995e-04],\n",
       "       [5.27276695e-02, 5.64057846e-04, 9.46660519e-01, 4.76990499e-05],\n",
       "       [6.63303494e-01, 1.24726392e-01, 1.37061730e-01, 7.49084204e-02],\n",
       "       [1.10746391e-01, 8.77472043e-01, 1.14906803e-02, 2.90946336e-04],\n",
       "       [6.66307986e-01, 1.09880812e-01, 1.45769641e-01, 7.80415013e-02],\n",
       "       [2.43611541e-03, 9.95467544e-01, 2.06470233e-03, 3.16921614e-05],\n",
       "       [1.24741830e-01, 7.66464591e-01, 7.43225887e-02, 3.44709121e-02],\n",
       "       [4.49327379e-01, 2.64791846e-01, 9.49791968e-02, 1.90901577e-01],\n",
       "       [1.15435883e-01, 6.49442375e-01, 1.96945280e-01, 3.81764695e-02],\n",
       "       [8.31250548e-01, 1.59867138e-01, 8.45666043e-03, 4.25628445e-04],\n",
       "       [8.24059427e-01, 7.68709835e-03, 1.65909156e-01, 2.34436663e-03],\n",
       "       [1.44908294e-01, 4.07815278e-01, 4.30416435e-01, 1.68599803e-02],\n",
       "       [1.33397162e-01, 8.49682465e-03, 8.57185006e-01, 9.21007071e-04],\n",
       "       [1.84030388e-04, 9.99350607e-01, 4.64912271e-04, 4.74285713e-07],\n",
       "       [9.85990286e-01, 7.71334767e-03, 5.72892604e-03, 5.67358104e-04],\n",
       "       [2.54117131e-01, 4.80786324e-01, 2.12633654e-01, 5.24628982e-02],\n",
       "       [7.48152891e-03, 9.74084139e-01, 1.21658081e-02, 6.26847148e-03],\n",
       "       [1.05731815e-01, 1.84706256e-01, 3.71431559e-01, 3.38130355e-01],\n",
       "       [8.09629112e-02, 8.79439831e-01, 3.01283244e-02, 9.46892239e-03],\n",
       "       [5.46052873e-01, 5.99500723e-02, 2.73850858e-01, 1.20146237e-01],\n",
       "       [1.33790141e-02, 9.47802663e-01, 2.20344551e-02, 1.67838763e-02],\n",
       "       [1.04109205e-01, 6.01228893e-01, 2.92712241e-01, 1.94966071e-03],\n",
       "       [9.30177033e-01, 3.04249730e-02, 2.12483816e-02, 1.81496479e-02],\n",
       "       [1.49015918e-01, 5.62445641e-01, 6.52689189e-02, 2.23269507e-01],\n",
       "       [4.74250093e-02, 7.42855892e-02, 8.49586546e-01, 2.87028328e-02],\n",
       "       [2.87196010e-01, 4.05035801e-02, 6.57800794e-01, 1.44996196e-02],\n",
       "       [1.32511899e-01, 2.05681279e-01, 3.41781855e-01, 3.20024878e-01],\n",
       "       [7.81401455e-01, 4.58163209e-02, 1.41299412e-01, 3.14827636e-02],\n",
       "       [1.69818744e-01, 1.00079753e-01, 1.36977792e-01, 5.93123734e-01],\n",
       "       [4.74205434e-01, 4.51000631e-01, 1.73442811e-02, 5.74496053e-02],\n",
       "       [7.95421526e-02, 4.93482314e-03, 9.13482428e-01, 2.04060925e-03],\n",
       "       [5.42071939e-01, 3.84717733e-01, 6.18521795e-02, 1.13581493e-02],\n",
       "       [6.01724088e-01, 1.79524139e-01, 1.46101519e-01, 7.26501644e-02],\n",
       "       [1.53417006e-01, 5.98842204e-01, 1.79258272e-01, 6.84825033e-02],\n",
       "       [9.88712788e-01, 8.44635721e-03, 1.86287670e-03, 9.78036318e-04],\n",
       "       [3.49280775e-01, 1.03730761e-01, 1.79021060e-01, 3.67967427e-01],\n",
       "       [8.99950101e-04, 9.95401859e-01, 3.69772082e-03, 4.39635784e-07],\n",
       "       [5.07970154e-01, 4.24497813e-01, 4.56388779e-02, 2.18931474e-02],\n",
       "       [3.19146027e-04, 9.56559300e-01, 4.29482944e-02, 1.73168388e-04]],\n",
       "      dtype=float32)"
      ]
     },
     "execution_count": 47,
     "metadata": {},
     "output_type": "execute_result"
    }
   ],
   "source": [
    "y_pred"
   ]
  },
  {
   "cell_type": "code",
   "execution_count": 48,
   "metadata": {},
   "outputs": [],
   "source": [
    "# Highest prediction value will be the predicted class index\n",
    "import numpy as np\n",
    "y_pred = np.argmax(y_pred, axis=1)"
   ]
  },
  {
   "cell_type": "code",
   "execution_count": 49,
   "metadata": {},
   "outputs": [
    {
     "data": {
      "text/plain": [
       "array([1, 2, 0, 2, 1, 0, 2, 3, 1, 0, 1, 1, 0, 1, 2, 3, 1, 0, 1, 1, 1, 1,\n",
       "       2, 1, 1, 2, 3, 2, 1, 1, 1, 2, 0, 1, 0, 1, 2, 0, 1, 0, 1, 1, 0, 1,\n",
       "       0, 0, 2, 2, 1, 0, 1, 1, 2, 1, 0, 1, 1, 0, 1, 2, 2, 2, 0, 3, 0, 2,\n",
       "       0, 0, 1, 0, 3, 1, 0, 1], dtype=int64)"
      ]
     },
     "execution_count": 49,
     "metadata": {},
     "output_type": "execute_result"
    }
   ],
   "source": [
    "y_pred"
   ]
  },
  {
   "cell_type": "code",
   "execution_count": 50,
   "metadata": {},
   "outputs": [],
   "source": [
    "from tensorflow.keras.models import load_model\n",
    "from tensorflow.keras.preprocessing import image"
   ]
  },
  {
   "cell_type": "code",
   "execution_count": 52,
   "metadata": {},
   "outputs": [],
   "source": [
    "#Loading the model\n",
    "model=load_model('model_resnet50.h5')"
   ]
  },
  {
   "cell_type": "markdown",
   "metadata": {},
   "source": [
    "### Testing the model"
   ]
  },
  {
   "cell_type": "code",
   "execution_count": 92,
   "metadata": {},
   "outputs": [],
   "source": [
    "# Taking image from test dataset to test\n",
    "img=image.load_img('Datasets/Test/lamborghini/4.jpg',target_size=(224,224))\n"
   ]
  },
  {
   "cell_type": "code",
   "execution_count": null,
   "metadata": {},
   "outputs": [],
   "source": []
  },
  {
   "cell_type": "code",
   "execution_count": 93,
   "metadata": {},
   "outputs": [
    {
     "data": {
      "text/plain": [
       "array([[[124., 115., 108.],\n",
       "        [ 85.,  76.,  69.],\n",
       "        [112., 103.,  96.],\n",
       "        ...,\n",
       "        [221., 224., 229.],\n",
       "        [224., 227., 232.],\n",
       "        [231., 234., 239.]],\n",
       "\n",
       "       [[130., 121., 114.],\n",
       "        [ 90.,  81.,  74.],\n",
       "        [116., 107., 100.],\n",
       "        ...,\n",
       "        [221., 224., 229.],\n",
       "        [225., 228., 233.],\n",
       "        [233., 236., 241.]],\n",
       "\n",
       "       [[137., 128., 121.],\n",
       "        [ 94.,  85.,  78.],\n",
       "        [118., 109., 102.],\n",
       "        ...,\n",
       "        [221., 224., 229.],\n",
       "        [228., 231., 236.],\n",
       "        [235., 238., 243.]],\n",
       "\n",
       "       ...,\n",
       "\n",
       "       [[192., 183., 178.],\n",
       "        [190., 181., 176.],\n",
       "        [188., 179., 174.],\n",
       "        ...,\n",
       "        [230., 226., 227.],\n",
       "        [232., 232., 232.],\n",
       "        [232., 232., 232.]],\n",
       "\n",
       "       [[189., 180., 175.],\n",
       "        [188., 179., 174.],\n",
       "        [186., 177., 172.],\n",
       "        ...,\n",
       "        [230., 226., 227.],\n",
       "        [232., 232., 232.],\n",
       "        [232., 232., 232.]],\n",
       "\n",
       "       [[190., 181., 176.],\n",
       "        [189., 180., 175.],\n",
       "        [187., 178., 173.],\n",
       "        ...,\n",
       "        [230., 226., 227.],\n",
       "        [232., 232., 232.],\n",
       "        [232., 232., 232.]]], dtype=float32)"
      ]
     },
     "execution_count": 93,
     "metadata": {},
     "output_type": "execute_result"
    }
   ],
   "source": [
    "# Image to array\n",
    "x=image.img_to_array(img)\n",
    "x"
   ]
  },
  {
   "cell_type": "code",
   "execution_count": 94,
   "metadata": {},
   "outputs": [
    {
     "data": {
      "text/plain": [
       "(224, 224, 3)"
      ]
     },
     "execution_count": 94,
     "metadata": {},
     "output_type": "execute_result"
    }
   ],
   "source": [
    "x.shape"
   ]
  },
  {
   "cell_type": "code",
   "execution_count": 95,
   "metadata": {},
   "outputs": [],
   "source": [
    "#re-scaling the testing image\n",
    "x=x/255"
   ]
  },
  {
   "cell_type": "code",
   "execution_count": 96,
   "metadata": {},
   "outputs": [
    {
     "data": {
      "text/plain": [
       "(1, 224, 224, 3)"
      ]
     },
     "execution_count": 96,
     "metadata": {},
     "output_type": "execute_result"
    }
   ],
   "source": [
    "x=np.expand_dims(x,axis=0)\n",
    "img_data=preprocess_input(x)\n",
    "img_data.shape"
   ]
  },
  {
   "cell_type": "code",
   "execution_count": 97,
   "metadata": {},
   "outputs": [
    {
     "name": "stdout",
     "output_type": "stream",
     "text": [
      "1/1 [==============================] - 0s 164ms/step\n"
     ]
    },
    {
     "data": {
      "text/plain": [
       "array([[1.9304959e-02, 5.4077256e-01, 4.3982384e-01, 9.8638353e-05]],\n",
       "      dtype=float32)"
      ]
     },
     "execution_count": 97,
     "metadata": {},
     "output_type": "execute_result"
    }
   ],
   "source": [
    "model.predict(img_data)"
   ]
  },
  {
   "cell_type": "code",
   "execution_count": 98,
   "metadata": {},
   "outputs": [
    {
     "name": "stdout",
     "output_type": "stream",
     "text": [
      "1/1 [==============================] - 0s 159ms/step\n"
     ]
    }
   ],
   "source": [
    "a=np.argmax(model.predict(img_data), axis=1)"
   ]
  },
  {
   "cell_type": "code",
   "execution_count": 99,
   "metadata": {},
   "outputs": [
    {
     "data": {
      "text/plain": [
       "array([ True])"
      ]
     },
     "execution_count": 99,
     "metadata": {},
     "output_type": "execute_result"
    }
   ],
   "source": [
    "# Checking if the image belongs to lamborgini\n",
    "a==1"
   ]
  },
  {
   "cell_type": "code",
   "execution_count": null,
   "metadata": {},
   "outputs": [],
   "source": []
  }
 ],
 "metadata": {
  "kernelspec": {
   "display_name": "Python 3 (ipykernel)",
   "language": "python",
   "name": "python3"
  },
  "language_info": {
   "codemirror_mode": {
    "name": "ipython",
    "version": 3
   },
   "file_extension": ".py",
   "mimetype": "text/x-python",
   "name": "python",
   "nbconvert_exporter": "python",
   "pygments_lexer": "ipython3",
   "version": "3.9.12"
  }
 },
 "nbformat": 4,
 "nbformat_minor": 2
}
